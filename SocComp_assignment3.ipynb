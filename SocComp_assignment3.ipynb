{
  "nbformat": 4,
  "nbformat_minor": 0,
  "metadata": {
    "colab": {
      "name": "SocComp_assignment3.ipynb",
      "provenance": []
    },
    "kernelspec": {
      "name": "python3",
      "display_name": "Python 3"
    },
    "language_info": {
      "name": "python"
    }
  },
  "cells": [
    {
      "cell_type": "code",
      "metadata": {
        "id": "TLyUfcsr8DmT"
      },
      "source": [
        "from sklearn.feature_extraction.text import CountVectorizer\n",
        "import json\n",
        "import pandas as pd\n",
        "import numpy as np\n",
        "from sklearn.model_selection import train_test_split"
      ],
      "execution_count": 3,
      "outputs": []
    },
    {
      "cell_type": "code",
      "metadata": {
        "id": "3CAssumt9Lby"
      },
      "source": [
        "with open('pizza_request_dataset.json') as f:\n",
        "  data = json.load(f)"
      ],
      "execution_count": 4,
      "outputs": []
    },
    {
      "cell_type": "code",
      "metadata": {
        "id": "H0s7oNFg-hGe"
      },
      "source": [
        "df = pd.read_json('pizza_request_dataset.json')\n",
        "train, test = train_test_split(df, test_size=567, random_state=42)"
      ],
      "execution_count": 5,
      "outputs": []
    },
    {
      "cell_type": "code",
      "metadata": {
        "id": "n_35tma3mzGC"
      },
      "source": [
        "from sklearn.feature_extraction.text import CountVectorizer\n",
        "word_vectorizer = CountVectorizer(ngram_range=(1,1), analyzer='word')\n",
        "sparse_matrix = word_vectorizer.fit_transform(train['request_text'])\n",
        "frequencies = sum(sparse_matrix).toarray()[0]\n",
        "train_ngrams = pd.DataFrame(frequencies, index=word_vectorizer.get_feature_names(), columns=['frequency'])"
      ],
      "execution_count": null,
      "outputs": []
    },
    {
      "cell_type": "code",
      "metadata": {
        "id": "0NT-VKIIoASG"
      },
      "source": [
        "topp_500_unigrams = train_ngrams.sort_values(\"frequency\", ascending=False).head(500)"
      ],
      "execution_count": null,
      "outputs": []
    },
    {
      "cell_type": "code",
      "metadata": {
        "id": "d4u3zVkSojnu"
      },
      "source": [
        "from sklearn.feature_extraction.text import CountVectorizer\n",
        "word_vectorizer = CountVectorizer(ngram_range=(2,2), analyzer='word')\n",
        "sparse_matrix = word_vectorizer.fit_transform(train['request_text'])\n",
        "frequencies = sum(sparse_matrix).toarray()[0]\n",
        "train_bigrams = pd.DataFrame(frequencies, index=word_vectorizer.get_feature_names(), columns=['frequency'])"
      ],
      "execution_count": 43,
      "outputs": []
    },
    {
      "cell_type": "code",
      "metadata": {
        "id": "Da9X65gXooif"
      },
      "source": [
        "topp500_bigrams = train_bigrams.sort_values(\"frequency\", ascending=False).head(500)"
      ],
      "execution_count": 44,
      "outputs": []
    },
    {
      "cell_type": "code",
      "metadata": {
        "id": "wUUyupzPpHeN"
      },
      "source": [
        "topp500_bigrams['bigrams'] = topp500_bigrams.index"
      ],
      "execution_count": 45,
      "outputs": []
    },
    {
      "cell_type": "code",
      "metadata": {
        "id": "lvZYH82Arsp-"
      },
      "source": [
        "topp_500_unigrams['unigrams'] = topp_500_unigrams.index\n",
        "unigrams = topp_500_unigrams['unigrams'].tolist()\n",
        "bigrams =topp500_bigrams['bigrams'].tolist()\n",
        "unigrams\n",
        "ngrams = unigrams + bigrams\n",
        "#ngrams"
      ],
      "execution_count": 46,
      "outputs": []
    },
    {
      "cell_type": "code",
      "metadata": {
        "id": "9piC7eeUpItw"
      },
      "source": [
        "#create X to be 5104x1000 shape\n",
        "X = []\n",
        "for text in train['request_text'].tolist():\n",
        "  contains_ngram =[]\n",
        "  for i in range(len(ngrams)):\n",
        "    if ngrams[i] in text:\n",
        "      contains_ngram.append(1)\n",
        "    else:\n",
        "      contains_ngram.append(0)\n",
        "  X.append(contains_ngram)"
      ],
      "execution_count": 47,
      "outputs": []
    },
    {
      "cell_type": "code",
      "metadata": {
        "colab": {
          "base_uri": "https://localhost:8080/"
        },
        "id": "XuCsU0ixs_Cg",
        "outputId": "0e470622-ae2c-4f45-d54d-e34fdf9b0c14"
      },
      "source": [
        "X = np.array(X)\n",
        "X.shape"
      ],
      "execution_count": 48,
      "outputs": [
        {
          "output_type": "execute_result",
          "data": {
            "text/plain": [
              "(5104, 1000)"
            ]
          },
          "metadata": {
            "tags": []
          },
          "execution_count": 48
        }
      ]
    },
    {
      "cell_type": "code",
      "metadata": {
        "id": "mu6r6qvltOKo"
      },
      "source": [
        "y = train['requester_received_pizza']"
      ],
      "execution_count": 6,
      "outputs": []
    },
    {
      "cell_type": "code",
      "metadata": {
        "id": "y8LOndZ7bbQa"
      },
      "source": [
        ""
      ],
      "execution_count": 1,
      "outputs": []
    },
    {
      "cell_type": "code",
      "metadata": {
        "colab": {
          "base_uri": "https://localhost:8080/"
        },
        "id": "hyDlyRvgttM6",
        "outputId": "1794f006-6bef-4448-f7de-8e73aa8a594b"
      },
      "source": [
        "y_int = [int(val == True) for val in y]\n",
        "len(y_int)"
      ],
      "execution_count": 7,
      "outputs": [
        {
          "output_type": "execute_result",
          "data": {
            "text/plain": [
              "5104"
            ]
          },
          "metadata": {
            "tags": []
          },
          "execution_count": 7
        }
      ]
    },
    {
      "cell_type": "code",
      "metadata": {
        "colab": {
          "base_uri": "https://localhost:8080/"
        },
        "id": "TyqQpfs9tyHA",
        "outputId": "47ffd4ff-7e55-45b3-afd9-efee10f380fc"
      },
      "source": [
        "from sklearn import svm\n",
        "from sklearn import linear_model\n",
        "clf = svm.SVC(kernel='linear')\n",
        "clf.fit(X, y_int)\n",
        "#svm = sklearn.linear_model.SGDClassifier(loss='hinge')"
      ],
      "execution_count": 51,
      "outputs": [
        {
          "output_type": "execute_result",
          "data": {
            "text/plain": [
              "SVC(C=1.0, break_ties=False, cache_size=200, class_weight=None, coef0=0.0,\n",
              "    decision_function_shape='ovr', degree=3, gamma='scale', kernel='linear',\n",
              "    max_iter=-1, probability=False, random_state=None, shrinking=True,\n",
              "    tol=0.001, verbose=False)"
            ]
          },
          "metadata": {
            "tags": []
          },
          "execution_count": 51
        }
      ]
    },
    {
      "cell_type": "code",
      "metadata": {
        "id": "IQQ5qeGVugB0"
      },
      "source": [
        "#sklearn.linear_model.SGDClassifier¶X_test = []\n",
        "X_test = []\n",
        "for text in test['request_text'].tolist():\n",
        "  contains_ngram =[]\n",
        "  for i in range(len(ngrams)):\n",
        "    if ngrams[i] in text:\n",
        "      contains_ngram.append(1)\n",
        "    else:\n",
        "      contains_ngram.append(0)\n",
        "  X_test.append(contains_ngram)\n",
        "y_test = test['requester_received_pizza']\n",
        "y_test = [int(val == True) for val in y_test]\n"
      ],
      "execution_count": 52,
      "outputs": []
    },
    {
      "cell_type": "code",
      "metadata": {
        "id": "NhIv7zXmwFdY"
      },
      "source": [
        "test_set_preds = clf.predict(X_test)"
      ],
      "execution_count": 53,
      "outputs": []
    },
    {
      "cell_type": "code",
      "metadata": {
        "colab": {
          "base_uri": "https://localhost:8080/"
        },
        "id": "_wlbolUiw717",
        "outputId": "f9db1eff-1ef2-4968-e0ba-693871378437"
      },
      "source": [
        "import sklearn.metrics\n",
        "\n",
        "accuracy_1a = clf.score(X_test, y_test)\n",
        "precision_1a = sklearn.metrics.precision_score(y_test, test_set_preds)\n",
        "recall_1a = sklearn.metrics.recall_score(y_test, test_set_preds)\n",
        "f1_1a = sklearn.metrics.f1_score(y_test, test_set_preds)\n",
        "auc_1a= sklearn.metrics.roc_auc_score(y_test, test_set_preds)\n",
        "\n",
        "tn, fp, fn, tp = sklearn.metrics.confusion_matrix(y_test, test_set_preds).ravel()\n",
        "specificity_1a = tn / (tn+fp)\n",
        "\n",
        "print(\"Answers for 1a: \")\n",
        "print(\"accuracy: \" + str(accuracy_1a))\n",
        "print(\"precision: \" +str(precision_1a))\n",
        "print(\"recall: \" + str(recall_1a))\n",
        "print(\"f1: \" + str(f1_1a))\n",
        "print(\"auc: \" + str(auc_1a))\n",
        "print(\"specificity: \" + str(specificity_1a))"
      ],
      "execution_count": 54,
      "outputs": [
        {
          "output_type": "stream",
          "text": [
            "Answers for 1a: \n",
            "accuracy: 0.7072310405643739\n",
            "precision: 0.3924050632911392\n",
            "recall: 0.2080536912751678\n",
            "f1: 0.2719298245614035\n",
            "auc: 0.5466105776950002\n",
            "specificity: 0.8851674641148325\n"
          ],
          "name": "stdout"
        }
      ]
    },
    {
      "cell_type": "markdown",
      "metadata": {
        "id": "mvkdr0J83oeW"
      },
      "source": [
        "Problem 1b"
      ]
    },
    {
      "cell_type": "code",
      "metadata": {
        "id": "WoW1PAX-3qXG"
      },
      "source": [
        "feature_cols = ['post_was_edited','requester_account_age_in_days_at_request', 'requester_account_age_in_days_at_retrieval', #,\n",
        "                'requester_days_since_first_post_on_raop_at_request','requester_days_since_first_post_on_raop_at_retrieval',\n",
        "                'requester_number_of_comments_at_request','requester_number_of_comments_at_retrieval','requester_number_of_comments_in_raop_at_request',\n",
        "                'requester_number_of_comments_in_raop_at_retrieval','requester_number_of_posts_at_request','requester_number_of_posts_at_retrieval',\n",
        "                'requester_number_of_posts_on_raop_at_request','requester_number_of_posts_on_raop_at_retrieval','requester_number_of_subreddits_at_request',\n",
        "                'requester_subreddits_at_request', 'number_of_downvotes_of_request_at_retrieval', 'number_of_upvotes_of_request_at_retrieval',\n",
        "                'requester_upvotes_minus_downvotes_at_request', 'requester_upvotes_minus_downvotes_at_retrieval', 'requester_upvotes_plus_downvotes_at_request',\n",
        "                'requester_upvotes_plus_downvotes_at_retrieval', 'requester_user_flair']\n",
        "              "
      ],
      "execution_count": 12,
      "outputs": []
    },
    {
      "cell_type": "markdown",
      "metadata": {
        "id": "VC-2LfreS0S4"
      },
      "source": [
        ""
      ]
    },
    {
      "cell_type": "code",
      "metadata": {
        "id": "1DORBXFa4rua"
      },
      "source": [
        "X_train_1b = train.loc[:, feature_cols]\n",
        "X_test_1b = test.loc[:, feature_cols]"
      ],
      "execution_count": 13,
      "outputs": []
    },
    {
      "cell_type": "code",
      "metadata": {
        "id": "ZMTE_GJ-XVn0"
      },
      "source": [
        "subreddits = X_train_1b['requester_subreddits_at_request']\n",
        "from itertools import chain, groupby\n",
        "from collections import Counter\n",
        "ll = subreddits.tolist()\n",
        "top_subs = sorted(chain(*(Counter(l).items() for l in ll)), reverse=True)"
      ],
      "execution_count": 14,
      "outputs": []
    },
    {
      "cell_type": "code",
      "metadata": {
        "colab": {
          "base_uri": "https://localhost:8080/"
        },
        "id": "90Qjbh_5YAo9",
        "outputId": "a472700d-5108-436a-b711-c54e327f8297"
      },
      "source": [
        "Counter(chain.from_iterable(ll)).most_common(10)"
      ],
      "execution_count": 15,
      "outputs": [
        {
          "output_type": "execute_result",
          "data": {
            "text/plain": [
              "[('AskReddit', 2904),\n",
              " ('pics', 2454),\n",
              " ('funny', 2412),\n",
              " ('IAmA', 1914),\n",
              " ('WTF', 1913),\n",
              " ('gaming', 1867),\n",
              " ('Random_Acts_Of_Pizza', 1759),\n",
              " ('videos', 1455),\n",
              " ('todayilearned', 1400),\n",
              " ('AdviceAnimals', 1308)]"
            ]
          },
          "metadata": {
            "tags": []
          },
          "execution_count": 15
        }
      ]
    },
    {
      "cell_type": "markdown",
      "metadata": {
        "id": "2Y8h8KICYqJy"
      },
      "source": [
        "Most Common Subreddits : ('AskReddit', 2904),\n",
        " ('pics', 2454),\n",
        " ('funny', 2412),\n",
        " ('IAmA', 1914),\n",
        " ('WTF', 1913),\n",
        " ('gaming', 1867),\n",
        " ('Random_Acts_Of_Pizza', 1759),\n",
        " ('videos', 1455),\n",
        " ('todayilearned', 1400),\n",
        " ('AdviceAnimals', 1308)]"
      ]
    },
    {
      "cell_type": "code",
      "metadata": {
        "id": "PpKdVJGR_wY4"
      },
      "source": [
        "most_common_subs = ['AskReddit', 'pics', 'funny', 'IAmA', \"WTF\", 'gaming', 'Random_Acts_Of_Pizza', 'videos', 'todayilearned', 'AdviceAnimals']\n",
        "sub_reddit_feats_train = []\n",
        "for text in train['requester_subreddits_at_request'].tolist():\n",
        "  print(text)\n",
        "  contains_sub =[]\n",
        "  for i in range(len(most_common_subs)):\n",
        "    if most_common_subs[i] in text:\n",
        "      contains_sub.append(1)\n",
        "    else:\n",
        "      contains_sub.append(0)\n",
        "  sub_reddit_feats_train.append(contains_sub)\n",
        "sub_reddit_feats_train"
      ],
      "execution_count": null,
      "outputs": []
    },
    {
      "cell_type": "code",
      "metadata": {
        "colab": {
          "base_uri": "https://localhost:8080/"
        },
        "id": "DEAFmy2hTFOA",
        "outputId": "16702536-8cac-4906-d8a1-5876aeeb95e3"
      },
      "source": [
        "np.array(sub_reddit_feats_train).sum()"
      ],
      "execution_count": 17,
      "outputs": [
        {
          "output_type": "execute_result",
          "data": {
            "text/plain": [
              "19386"
            ]
          },
          "metadata": {
            "tags": []
          },
          "execution_count": 17
        }
      ]
    },
    {
      "cell_type": "code",
      "metadata": {
        "colab": {
          "base_uri": "https://localhost:8080/"
        },
        "id": "Z0-Bh_rcCHyJ",
        "outputId": "448aa046-51dc-484e-a3aa-85570c1f84e6"
      },
      "source": [
        "np_subreddits_train = np.array(sub_reddit_feats_train)\n",
        "np_subreddits_train.shape"
      ],
      "execution_count": 18,
      "outputs": [
        {
          "output_type": "execute_result",
          "data": {
            "text/plain": [
              "(5104, 10)"
            ]
          },
          "metadata": {
            "tags": []
          },
          "execution_count": 18
        }
      ]
    },
    {
      "cell_type": "code",
      "metadata": {
        "colab": {
          "base_uri": "https://localhost:8080/"
        },
        "id": "3LwH5I3HChlG",
        "outputId": "00088bd1-d6a0-404c-9d17-8fb8ca98276f"
      },
      "source": [
        "most_common_subs = ['AskReddit', 'pics', 'funny', 'IAmA', \"WTF\", 'gaming', 'Random_Acts_Of_Pizza', 'videos', 'todayilearned', 'AdviceAnimals']\n",
        "sub_reddit_feats_test = []\n",
        "for text in test['requester_subreddits_at_request'].tolist():\n",
        "  contains_sub =[]\n",
        "  for i in range(len(most_common_subs)):\n",
        "    if most_common_subs[i] in text:\n",
        "      contains_sub.append(1)\n",
        "    else:\n",
        "      contains_sub.append(0)\n",
        "  sub_reddit_feats_test.append(contains_sub)\n",
        "np_subreddits_test = np.array(sub_reddit_feats_test)\n",
        "np_subreddits_test.shape"
      ],
      "execution_count": 19,
      "outputs": [
        {
          "output_type": "execute_result",
          "data": {
            "text/plain": [
              "(567, 10)"
            ]
          },
          "metadata": {
            "tags": []
          },
          "execution_count": 19
        }
      ]
    },
    {
      "cell_type": "code",
      "metadata": {
        "colab": {
          "base_uri": "https://localhost:8080/"
        },
        "id": "Qw_8CxUiTiIi",
        "outputId": "54279bd8-3c0b-47f3-8b9c-29d73eeb1b04"
      },
      "source": [
        "np_subreddits_test"
      ],
      "execution_count": 20,
      "outputs": [
        {
          "output_type": "execute_result",
          "data": {
            "text/plain": [
              "array([[0, 0, 0, ..., 0, 0, 0],\n",
              "       [1, 1, 0, ..., 0, 0, 0],\n",
              "       [1, 1, 1, ..., 1, 1, 1],\n",
              "       ...,\n",
              "       [1, 1, 1, ..., 1, 1, 1],\n",
              "       [1, 1, 1, ..., 1, 1, 0],\n",
              "       [1, 1, 0, ..., 0, 0, 1]])"
            ]
          },
          "metadata": {
            "tags": []
          },
          "execution_count": 20
        }
      ]
    },
    {
      "cell_type": "code",
      "metadata": {
        "id": "HWDcrCCAfb3T"
      },
      "source": [
        "#X_train_1b.drop(['F','I','P','h','m','o','r','s'], axis=1, inplace=True)\n",
        "one_hot_flair = pd.get_dummies(X_train_1b['requester_user_flair'])\n",
        "#one_hot_flair"
      ],
      "execution_count": 21,
      "outputs": []
    },
    {
      "cell_type": "code",
      "metadata": {
        "id": "Ctv-G9jxej5i"
      },
      "source": [
        "X_train_1b_final = pd.concat([X_train_1b,one_hot_flair], axis=1)\n",
        "X_train_1b_final = X_train_1b_final.drop(['requester_user_flair','requester_subreddits_at_request'],1)\n",
        "#X_train_1b_final\n",
        "\n"
      ],
      "execution_count": 22,
      "outputs": []
    },
    {
      "cell_type": "code",
      "metadata": {
        "colab": {
          "base_uri": "https://localhost:8080/",
          "height": 439
        },
        "id": "VIBbyvfkDA95",
        "outputId": "ac2f4beb-9d6a-4f0f-a12d-a06680952d07"
      },
      "source": [
        "X_train_1b_final"
      ],
      "execution_count": 69,
      "outputs": [
        {
          "output_type": "execute_result",
          "data": {
            "text/html": [
              "<div>\n",
              "<style scoped>\n",
              "    .dataframe tbody tr th:only-of-type {\n",
              "        vertical-align: middle;\n",
              "    }\n",
              "\n",
              "    .dataframe tbody tr th {\n",
              "        vertical-align: top;\n",
              "    }\n",
              "\n",
              "    .dataframe thead th {\n",
              "        text-align: right;\n",
              "    }\n",
              "</style>\n",
              "<table border=\"1\" class=\"dataframe\">\n",
              "  <thead>\n",
              "    <tr style=\"text-align: right;\">\n",
              "      <th></th>\n",
              "      <th>post_was_edited</th>\n",
              "      <th>requester_account_age_in_days_at_request</th>\n",
              "      <th>requester_account_age_in_days_at_retrieval</th>\n",
              "      <th>requester_days_since_first_post_on_raop_at_request</th>\n",
              "      <th>requester_days_since_first_post_on_raop_at_retrieval</th>\n",
              "      <th>requester_number_of_comments_at_request</th>\n",
              "      <th>requester_number_of_comments_at_retrieval</th>\n",
              "      <th>requester_number_of_comments_in_raop_at_request</th>\n",
              "      <th>requester_number_of_comments_in_raop_at_retrieval</th>\n",
              "      <th>requester_number_of_posts_at_request</th>\n",
              "      <th>requester_number_of_posts_at_retrieval</th>\n",
              "      <th>requester_number_of_posts_on_raop_at_request</th>\n",
              "      <th>requester_number_of_posts_on_raop_at_retrieval</th>\n",
              "      <th>requester_number_of_subreddits_at_request</th>\n",
              "      <th>number_of_downvotes_of_request_at_retrieval</th>\n",
              "      <th>number_of_upvotes_of_request_at_retrieval</th>\n",
              "      <th>requester_upvotes_minus_downvotes_at_request</th>\n",
              "      <th>requester_upvotes_minus_downvotes_at_retrieval</th>\n",
              "      <th>requester_upvotes_plus_downvotes_at_request</th>\n",
              "      <th>requester_upvotes_plus_downvotes_at_retrieval</th>\n",
              "      <th>PIF</th>\n",
              "      <th>shroom</th>\n",
              "    </tr>\n",
              "  </thead>\n",
              "  <tbody>\n",
              "    <tr>\n",
              "      <th>4023</th>\n",
              "      <td>0</td>\n",
              "      <td>23.688519</td>\n",
              "      <td>717.008947</td>\n",
              "      <td>0.000000</td>\n",
              "      <td>693.320428</td>\n",
              "      <td>1</td>\n",
              "      <td>1</td>\n",
              "      <td>0</td>\n",
              "      <td>0</td>\n",
              "      <td>0</td>\n",
              "      <td>1</td>\n",
              "      <td>0</td>\n",
              "      <td>1</td>\n",
              "      <td>2</td>\n",
              "      <td>2</td>\n",
              "      <td>3</td>\n",
              "      <td>19</td>\n",
              "      <td>19</td>\n",
              "      <td>31</td>\n",
              "      <td>31</td>\n",
              "      <td>0</td>\n",
              "      <td>0</td>\n",
              "    </tr>\n",
              "    <tr>\n",
              "      <th>2988</th>\n",
              "      <td>0</td>\n",
              "      <td>511.161817</td>\n",
              "      <td>605.643264</td>\n",
              "      <td>0.000000</td>\n",
              "      <td>94.439780</td>\n",
              "      <td>660</td>\n",
              "      <td>789</td>\n",
              "      <td>0</td>\n",
              "      <td>0</td>\n",
              "      <td>42</td>\n",
              "      <td>56</td>\n",
              "      <td>0</td>\n",
              "      <td>1</td>\n",
              "      <td>29</td>\n",
              "      <td>1</td>\n",
              "      <td>2</td>\n",
              "      <td>2565</td>\n",
              "      <td>2826</td>\n",
              "      <td>3807</td>\n",
              "      <td>4266</td>\n",
              "      <td>0</td>\n",
              "      <td>0</td>\n",
              "    </tr>\n",
              "    <tr>\n",
              "      <th>3313</th>\n",
              "      <td>1</td>\n",
              "      <td>60.862581</td>\n",
              "      <td>782.167894</td>\n",
              "      <td>0.000000</td>\n",
              "      <td>721.305313</td>\n",
              "      <td>0</td>\n",
              "      <td>999</td>\n",
              "      <td>0</td>\n",
              "      <td>0</td>\n",
              "      <td>12</td>\n",
              "      <td>157</td>\n",
              "      <td>0</td>\n",
              "      <td>1</td>\n",
              "      <td>8</td>\n",
              "      <td>2</td>\n",
              "      <td>5</td>\n",
              "      <td>237</td>\n",
              "      <td>4965</td>\n",
              "      <td>423</td>\n",
              "      <td>6931</td>\n",
              "      <td>0</td>\n",
              "      <td>0</td>\n",
              "    </tr>\n",
              "    <tr>\n",
              "      <th>3409</th>\n",
              "      <td>0</td>\n",
              "      <td>82.156586</td>\n",
              "      <td>158.056840</td>\n",
              "      <td>0.000000</td>\n",
              "      <td>0.000000</td>\n",
              "      <td>12</td>\n",
              "      <td>13</td>\n",
              "      <td>0</td>\n",
              "      <td>0</td>\n",
              "      <td>2</td>\n",
              "      <td>2</td>\n",
              "      <td>0</td>\n",
              "      <td>0</td>\n",
              "      <td>4</td>\n",
              "      <td>9</td>\n",
              "      <td>23</td>\n",
              "      <td>201</td>\n",
              "      <td>202</td>\n",
              "      <td>269</td>\n",
              "      <td>270</td>\n",
              "      <td>0</td>\n",
              "      <td>0</td>\n",
              "    </tr>\n",
              "    <tr>\n",
              "      <th>676</th>\n",
              "      <td>0</td>\n",
              "      <td>387.013611</td>\n",
              "      <td>630.427824</td>\n",
              "      <td>0.000000</td>\n",
              "      <td>243.372546</td>\n",
              "      <td>255</td>\n",
              "      <td>306</td>\n",
              "      <td>0</td>\n",
              "      <td>0</td>\n",
              "      <td>85</td>\n",
              "      <td>110</td>\n",
              "      <td>0</td>\n",
              "      <td>1</td>\n",
              "      <td>46</td>\n",
              "      <td>2</td>\n",
              "      <td>3</td>\n",
              "      <td>4412</td>\n",
              "      <td>7963</td>\n",
              "      <td>8346</td>\n",
              "      <td>15411</td>\n",
              "      <td>0</td>\n",
              "      <td>0</td>\n",
              "    </tr>\n",
              "    <tr>\n",
              "      <th>...</th>\n",
              "      <td>...</td>\n",
              "      <td>...</td>\n",
              "      <td>...</td>\n",
              "      <td>...</td>\n",
              "      <td>...</td>\n",
              "      <td>...</td>\n",
              "      <td>...</td>\n",
              "      <td>...</td>\n",
              "      <td>...</td>\n",
              "      <td>...</td>\n",
              "      <td>...</td>\n",
              "      <td>...</td>\n",
              "      <td>...</td>\n",
              "      <td>...</td>\n",
              "      <td>...</td>\n",
              "      <td>...</td>\n",
              "      <td>...</td>\n",
              "      <td>...</td>\n",
              "      <td>...</td>\n",
              "      <td>...</td>\n",
              "      <td>...</td>\n",
              "      <td>...</td>\n",
              "    </tr>\n",
              "    <tr>\n",
              "      <th>3772</th>\n",
              "      <td>0</td>\n",
              "      <td>542.096296</td>\n",
              "      <td>752.213438</td>\n",
              "      <td>0.000000</td>\n",
              "      <td>210.075475</td>\n",
              "      <td>0</td>\n",
              "      <td>999</td>\n",
              "      <td>0</td>\n",
              "      <td>0</td>\n",
              "      <td>40</td>\n",
              "      <td>59</td>\n",
              "      <td>0</td>\n",
              "      <td>1</td>\n",
              "      <td>19</td>\n",
              "      <td>2</td>\n",
              "      <td>8</td>\n",
              "      <td>1335</td>\n",
              "      <td>8269</td>\n",
              "      <td>2393</td>\n",
              "      <td>14207</td>\n",
              "      <td>0</td>\n",
              "      <td>0</td>\n",
              "    </tr>\n",
              "    <tr>\n",
              "      <th>5191</th>\n",
              "      <td>0</td>\n",
              "      <td>732.137812</td>\n",
              "      <td>1017.506262</td>\n",
              "      <td>0.000000</td>\n",
              "      <td>285.368449</td>\n",
              "      <td>56</td>\n",
              "      <td>112</td>\n",
              "      <td>0</td>\n",
              "      <td>0</td>\n",
              "      <td>6</td>\n",
              "      <td>14</td>\n",
              "      <td>0</td>\n",
              "      <td>1</td>\n",
              "      <td>17</td>\n",
              "      <td>1</td>\n",
              "      <td>1</td>\n",
              "      <td>758</td>\n",
              "      <td>981</td>\n",
              "      <td>1294</td>\n",
              "      <td>1649</td>\n",
              "      <td>0</td>\n",
              "      <td>0</td>\n",
              "    </tr>\n",
              "    <tr>\n",
              "      <th>5226</th>\n",
              "      <td>0</td>\n",
              "      <td>239.057743</td>\n",
              "      <td>1057.696377</td>\n",
              "      <td>0.000000</td>\n",
              "      <td>818.596968</td>\n",
              "      <td>38</td>\n",
              "      <td>169</td>\n",
              "      <td>0</td>\n",
              "      <td>2</td>\n",
              "      <td>51</td>\n",
              "      <td>127</td>\n",
              "      <td>0</td>\n",
              "      <td>1</td>\n",
              "      <td>23</td>\n",
              "      <td>1</td>\n",
              "      <td>2</td>\n",
              "      <td>911</td>\n",
              "      <td>4710</td>\n",
              "      <td>1959</td>\n",
              "      <td>9852</td>\n",
              "      <td>0</td>\n",
              "      <td>0</td>\n",
              "    </tr>\n",
              "    <tr>\n",
              "      <th>5390</th>\n",
              "      <td>0</td>\n",
              "      <td>72.029942</td>\n",
              "      <td>289.573750</td>\n",
              "      <td>72.029942</td>\n",
              "      <td>289.573750</td>\n",
              "      <td>3</td>\n",
              "      <td>4</td>\n",
              "      <td>2</td>\n",
              "      <td>3</td>\n",
              "      <td>1</td>\n",
              "      <td>2</td>\n",
              "      <td>1</td>\n",
              "      <td>2</td>\n",
              "      <td>2</td>\n",
              "      <td>1</td>\n",
              "      <td>4</td>\n",
              "      <td>6</td>\n",
              "      <td>11</td>\n",
              "      <td>8</td>\n",
              "      <td>17</td>\n",
              "      <td>0</td>\n",
              "      <td>0</td>\n",
              "    </tr>\n",
              "    <tr>\n",
              "      <th>860</th>\n",
              "      <td>0</td>\n",
              "      <td>135.643889</td>\n",
              "      <td>669.027037</td>\n",
              "      <td>130.003530</td>\n",
              "      <td>663.386678</td>\n",
              "      <td>13</td>\n",
              "      <td>67</td>\n",
              "      <td>1</td>\n",
              "      <td>1</td>\n",
              "      <td>1</td>\n",
              "      <td>4</td>\n",
              "      <td>0</td>\n",
              "      <td>1</td>\n",
              "      <td>8</td>\n",
              "      <td>1</td>\n",
              "      <td>2</td>\n",
              "      <td>78</td>\n",
              "      <td>378</td>\n",
              "      <td>128</td>\n",
              "      <td>536</td>\n",
              "      <td>0</td>\n",
              "      <td>0</td>\n",
              "    </tr>\n",
              "  </tbody>\n",
              "</table>\n",
              "<p>5104 rows × 22 columns</p>\n",
              "</div>"
            ],
            "text/plain": [
              "      post_was_edited  requester_account_age_in_days_at_request  ...  PIF  shroom\n",
              "4023                0                                 23.688519  ...    0       0\n",
              "2988                0                                511.161817  ...    0       0\n",
              "3313                1                                 60.862581  ...    0       0\n",
              "3409                0                                 82.156586  ...    0       0\n",
              "676                 0                                387.013611  ...    0       0\n",
              "...               ...                                       ...  ...  ...     ...\n",
              "3772                0                                542.096296  ...    0       0\n",
              "5191                0                                732.137812  ...    0       0\n",
              "5226                0                                239.057743  ...    0       0\n",
              "5390                0                                 72.029942  ...    0       0\n",
              "860                 0                                135.643889  ...    0       0\n",
              "\n",
              "[5104 rows x 22 columns]"
            ]
          },
          "metadata": {
            "tags": []
          },
          "execution_count": 69
        }
      ]
    },
    {
      "cell_type": "code",
      "metadata": {
        "colab": {
          "base_uri": "https://localhost:8080/",
          "height": 439
        },
        "id": "5s3I_pPaDLGT",
        "outputId": "b2605f2e-2b87-43e4-8d8a-c0a37be1a5a8"
      },
      "source": [
        "one_hot_flair = pd.get_dummies(X_test_1b['requester_user_flair'])\n",
        "X_test_1b_final = pd.concat([X_test_1b,one_hot_flair], axis=1)\n",
        "X_test_1b_final = X_test_1b_final.drop(['requester_user_flair','requester_subreddits_at_request'],1)\n",
        "X_test_1b_final"
      ],
      "execution_count": 23,
      "outputs": [
        {
          "output_type": "execute_result",
          "data": {
            "text/html": [
              "<div>\n",
              "<style scoped>\n",
              "    .dataframe tbody tr th:only-of-type {\n",
              "        vertical-align: middle;\n",
              "    }\n",
              "\n",
              "    .dataframe tbody tr th {\n",
              "        vertical-align: top;\n",
              "    }\n",
              "\n",
              "    .dataframe thead th {\n",
              "        text-align: right;\n",
              "    }\n",
              "</style>\n",
              "<table border=\"1\" class=\"dataframe\">\n",
              "  <thead>\n",
              "    <tr style=\"text-align: right;\">\n",
              "      <th></th>\n",
              "      <th>post_was_edited</th>\n",
              "      <th>requester_account_age_in_days_at_request</th>\n",
              "      <th>requester_account_age_in_days_at_retrieval</th>\n",
              "      <th>requester_days_since_first_post_on_raop_at_request</th>\n",
              "      <th>requester_days_since_first_post_on_raop_at_retrieval</th>\n",
              "      <th>requester_number_of_comments_at_request</th>\n",
              "      <th>requester_number_of_comments_at_retrieval</th>\n",
              "      <th>requester_number_of_comments_in_raop_at_request</th>\n",
              "      <th>requester_number_of_comments_in_raop_at_retrieval</th>\n",
              "      <th>requester_number_of_posts_at_request</th>\n",
              "      <th>requester_number_of_posts_at_retrieval</th>\n",
              "      <th>requester_number_of_posts_on_raop_at_request</th>\n",
              "      <th>requester_number_of_posts_on_raop_at_retrieval</th>\n",
              "      <th>requester_number_of_subreddits_at_request</th>\n",
              "      <th>number_of_downvotes_of_request_at_retrieval</th>\n",
              "      <th>number_of_upvotes_of_request_at_retrieval</th>\n",
              "      <th>requester_upvotes_minus_downvotes_at_request</th>\n",
              "      <th>requester_upvotes_minus_downvotes_at_retrieval</th>\n",
              "      <th>requester_upvotes_plus_downvotes_at_request</th>\n",
              "      <th>requester_upvotes_plus_downvotes_at_retrieval</th>\n",
              "      <th>PIF</th>\n",
              "      <th>shroom</th>\n",
              "    </tr>\n",
              "  </thead>\n",
              "  <tbody>\n",
              "    <tr>\n",
              "      <th>3671</th>\n",
              "      <td>0</td>\n",
              "      <td>0.000000</td>\n",
              "      <td>298.623287</td>\n",
              "      <td>0.000000</td>\n",
              "      <td>298.623287</td>\n",
              "      <td>0</td>\n",
              "      <td>5</td>\n",
              "      <td>0</td>\n",
              "      <td>1</td>\n",
              "      <td>0</td>\n",
              "      <td>1</td>\n",
              "      <td>0</td>\n",
              "      <td>1</td>\n",
              "      <td>1</td>\n",
              "      <td>14</td>\n",
              "      <td>17</td>\n",
              "      <td>2</td>\n",
              "      <td>-9</td>\n",
              "      <td>32</td>\n",
              "      <td>83</td>\n",
              "      <td>0</td>\n",
              "      <td>0</td>\n",
              "    </tr>\n",
              "    <tr>\n",
              "      <th>5183</th>\n",
              "      <td>0</td>\n",
              "      <td>205.548843</td>\n",
              "      <td>527.360718</td>\n",
              "      <td>0.000000</td>\n",
              "      <td>321.811875</td>\n",
              "      <td>108</td>\n",
              "      <td>131</td>\n",
              "      <td>0</td>\n",
              "      <td>0</td>\n",
              "      <td>24</td>\n",
              "      <td>28</td>\n",
              "      <td>0</td>\n",
              "      <td>1</td>\n",
              "      <td>25</td>\n",
              "      <td>4</td>\n",
              "      <td>4</td>\n",
              "      <td>574</td>\n",
              "      <td>633</td>\n",
              "      <td>956</td>\n",
              "      <td>1031</td>\n",
              "      <td>0</td>\n",
              "      <td>0</td>\n",
              "    </tr>\n",
              "    <tr>\n",
              "      <th>1859</th>\n",
              "      <td>0</td>\n",
              "      <td>411.171655</td>\n",
              "      <td>654.795544</td>\n",
              "      <td>0.000000</td>\n",
              "      <td>243.582222</td>\n",
              "      <td>413</td>\n",
              "      <td>622</td>\n",
              "      <td>0</td>\n",
              "      <td>1</td>\n",
              "      <td>56</td>\n",
              "      <td>80</td>\n",
              "      <td>0</td>\n",
              "      <td>4</td>\n",
              "      <td>53</td>\n",
              "      <td>4</td>\n",
              "      <td>5</td>\n",
              "      <td>2013</td>\n",
              "      <td>3280</td>\n",
              "      <td>3213</td>\n",
              "      <td>5564</td>\n",
              "      <td>0</td>\n",
              "      <td>1</td>\n",
              "    </tr>\n",
              "    <tr>\n",
              "      <th>2589</th>\n",
              "      <td>0</td>\n",
              "      <td>105.919167</td>\n",
              "      <td>227.387766</td>\n",
              "      <td>0.000000</td>\n",
              "      <td>121.426933</td>\n",
              "      <td>391</td>\n",
              "      <td>998</td>\n",
              "      <td>0</td>\n",
              "      <td>2</td>\n",
              "      <td>75</td>\n",
              "      <td>144</td>\n",
              "      <td>0</td>\n",
              "      <td>1</td>\n",
              "      <td>63</td>\n",
              "      <td>2</td>\n",
              "      <td>4</td>\n",
              "      <td>4209</td>\n",
              "      <td>7359</td>\n",
              "      <td>7143</td>\n",
              "      <td>13145</td>\n",
              "      <td>0</td>\n",
              "      <td>0</td>\n",
              "    </tr>\n",
              "    <tr>\n",
              "      <th>1662</th>\n",
              "      <td>0</td>\n",
              "      <td>362.890451</td>\n",
              "      <td>1275.413495</td>\n",
              "      <td>0.000000</td>\n",
              "      <td>912.481377</td>\n",
              "      <td>39</td>\n",
              "      <td>461</td>\n",
              "      <td>0</td>\n",
              "      <td>3</td>\n",
              "      <td>5</td>\n",
              "      <td>54</td>\n",
              "      <td>0</td>\n",
              "      <td>2</td>\n",
              "      <td>13</td>\n",
              "      <td>2</td>\n",
              "      <td>13</td>\n",
              "      <td>237</td>\n",
              "      <td>4837</td>\n",
              "      <td>303</td>\n",
              "      <td>7277</td>\n",
              "      <td>0</td>\n",
              "      <td>1</td>\n",
              "    </tr>\n",
              "    <tr>\n",
              "      <th>...</th>\n",
              "      <td>...</td>\n",
              "      <td>...</td>\n",
              "      <td>...</td>\n",
              "      <td>...</td>\n",
              "      <td>...</td>\n",
              "      <td>...</td>\n",
              "      <td>...</td>\n",
              "      <td>...</td>\n",
              "      <td>...</td>\n",
              "      <td>...</td>\n",
              "      <td>...</td>\n",
              "      <td>...</td>\n",
              "      <td>...</td>\n",
              "      <td>...</td>\n",
              "      <td>...</td>\n",
              "      <td>...</td>\n",
              "      <td>...</td>\n",
              "      <td>...</td>\n",
              "      <td>...</td>\n",
              "      <td>...</td>\n",
              "      <td>...</td>\n",
              "      <td>...</td>\n",
              "    </tr>\n",
              "    <tr>\n",
              "      <th>3817</th>\n",
              "      <td>0</td>\n",
              "      <td>0.848299</td>\n",
              "      <td>330.163727</td>\n",
              "      <td>0.000000</td>\n",
              "      <td>329.315428</td>\n",
              "      <td>1</td>\n",
              "      <td>23</td>\n",
              "      <td>0</td>\n",
              "      <td>0</td>\n",
              "      <td>1</td>\n",
              "      <td>10</td>\n",
              "      <td>0</td>\n",
              "      <td>2</td>\n",
              "      <td>2</td>\n",
              "      <td>1</td>\n",
              "      <td>1</td>\n",
              "      <td>3</td>\n",
              "      <td>182</td>\n",
              "      <td>5</td>\n",
              "      <td>264</td>\n",
              "      <td>0</td>\n",
              "      <td>0</td>\n",
              "    </tr>\n",
              "    <tr>\n",
              "      <th>151</th>\n",
              "      <td>0</td>\n",
              "      <td>11.471829</td>\n",
              "      <td>800.084456</td>\n",
              "      <td>0.000000</td>\n",
              "      <td>788.570961</td>\n",
              "      <td>3</td>\n",
              "      <td>111</td>\n",
              "      <td>0</td>\n",
              "      <td>1</td>\n",
              "      <td>0</td>\n",
              "      <td>6</td>\n",
              "      <td>0</td>\n",
              "      <td>1</td>\n",
              "      <td>1</td>\n",
              "      <td>5</td>\n",
              "      <td>9</td>\n",
              "      <td>4</td>\n",
              "      <td>780</td>\n",
              "      <td>4</td>\n",
              "      <td>1224</td>\n",
              "      <td>0</td>\n",
              "      <td>1</td>\n",
              "    </tr>\n",
              "    <tr>\n",
              "      <th>763</th>\n",
              "      <td>0</td>\n",
              "      <td>500.034468</td>\n",
              "      <td>603.476435</td>\n",
              "      <td>95.836285</td>\n",
              "      <td>199.278252</td>\n",
              "      <td>499</td>\n",
              "      <td>513</td>\n",
              "      <td>0</td>\n",
              "      <td>2</td>\n",
              "      <td>25</td>\n",
              "      <td>27</td>\n",
              "      <td>1</td>\n",
              "      <td>2</td>\n",
              "      <td>48</td>\n",
              "      <td>4</td>\n",
              "      <td>5</td>\n",
              "      <td>6119</td>\n",
              "      <td>6163</td>\n",
              "      <td>11191</td>\n",
              "      <td>11277</td>\n",
              "      <td>0</td>\n",
              "      <td>0</td>\n",
              "    </tr>\n",
              "    <tr>\n",
              "      <th>3724</th>\n",
              "      <td>0</td>\n",
              "      <td>1297.815868</td>\n",
              "      <td>2091.248819</td>\n",
              "      <td>117.954213</td>\n",
              "      <td>911.387164</td>\n",
              "      <td>469</td>\n",
              "      <td>1000</td>\n",
              "      <td>3</td>\n",
              "      <td>5</td>\n",
              "      <td>29</td>\n",
              "      <td>114</td>\n",
              "      <td>0</td>\n",
              "      <td>1</td>\n",
              "      <td>32</td>\n",
              "      <td>0</td>\n",
              "      <td>2</td>\n",
              "      <td>749</td>\n",
              "      <td>1566</td>\n",
              "      <td>1113</td>\n",
              "      <td>2682</td>\n",
              "      <td>0</td>\n",
              "      <td>0</td>\n",
              "    </tr>\n",
              "    <tr>\n",
              "      <th>2464</th>\n",
              "      <td>0</td>\n",
              "      <td>202.401644</td>\n",
              "      <td>633.093102</td>\n",
              "      <td>157.020255</td>\n",
              "      <td>587.711713</td>\n",
              "      <td>74</td>\n",
              "      <td>144</td>\n",
              "      <td>8</td>\n",
              "      <td>12</td>\n",
              "      <td>10</td>\n",
              "      <td>18</td>\n",
              "      <td>0</td>\n",
              "      <td>1</td>\n",
              "      <td>25</td>\n",
              "      <td>1</td>\n",
              "      <td>2</td>\n",
              "      <td>868</td>\n",
              "      <td>1169</td>\n",
              "      <td>1734</td>\n",
              "      <td>2171</td>\n",
              "      <td>0</td>\n",
              "      <td>0</td>\n",
              "    </tr>\n",
              "  </tbody>\n",
              "</table>\n",
              "<p>567 rows × 22 columns</p>\n",
              "</div>"
            ],
            "text/plain": [
              "      post_was_edited  requester_account_age_in_days_at_request  ...  PIF  shroom\n",
              "3671                0                                  0.000000  ...    0       0\n",
              "5183                0                                205.548843  ...    0       0\n",
              "1859                0                                411.171655  ...    0       1\n",
              "2589                0                                105.919167  ...    0       0\n",
              "1662                0                                362.890451  ...    0       1\n",
              "...               ...                                       ...  ...  ...     ...\n",
              "3817                0                                  0.848299  ...    0       0\n",
              "151                 0                                 11.471829  ...    0       1\n",
              "763                 0                                500.034468  ...    0       0\n",
              "3724                0                               1297.815868  ...    0       0\n",
              "2464                0                                202.401644  ...    0       0\n",
              "\n",
              "[567 rows x 22 columns]"
            ]
          },
          "metadata": {
            "tags": []
          },
          "execution_count": 23
        }
      ]
    },
    {
      "cell_type": "code",
      "metadata": {
        "id": "zf_C7oGxVZy2"
      },
      "source": [
        "columns_not_to_normalize = ['post_was_edited', 'PIF', 'shroom', ]"
      ],
      "execution_count": 25,
      "outputs": []
    },
    {
      "cell_type": "code",
      "metadata": {
        "id": "9rWshDLwWM8e"
      },
      "source": [
        "columns =X_test_1b_final.columns.tolist()"
      ],
      "execution_count": 81,
      "outputs": []
    },
    {
      "cell_type": "code",
      "metadata": {
        "colab": {
          "base_uri": "https://localhost:8080/"
        },
        "id": "EmtbFVxRWecp",
        "outputId": "b301e9a5-8936-4311-febe-8537d6c757a9"
      },
      "source": [
        "len(columns)"
      ],
      "execution_count": 86,
      "outputs": [
        {
          "output_type": "execute_result",
          "data": {
            "text/plain": [
              "22"
            ]
          },
          "metadata": {
            "tags": []
          },
          "execution_count": 86
        }
      ]
    },
    {
      "cell_type": "code",
      "metadata": {
        "id": "PUm-sDfZKQEO"
      },
      "source": [
        "def normalize(dataset, list_columns_keep):\n",
        "    dataNorm=((dataset-dataset.min())/(dataset.max()-dataset.min()))\n",
        "    for col in list_columns_keep:\n",
        "      dataNorm[col]=dataset[col]\n",
        "    return dataNorm"
      ],
      "execution_count": 26,
      "outputs": []
    },
    {
      "cell_type": "code",
      "metadata": {
        "colab": {
          "base_uri": "https://localhost:8080/",
          "height": 439
        },
        "id": "ZteCYVzsW6Lo",
        "outputId": "faf3c59d-112f-4ec7-c1a4-307157855311"
      },
      "source": [
        "X_train_norm = normalize(X_train_1b_final,columns_not_to_normalize  )\n",
        "X_test_norm = normalize(X_test_1b_final, columns_not_to_normalize)\n",
        "X_train_norm"
      ],
      "execution_count": 27,
      "outputs": [
        {
          "output_type": "execute_result",
          "data": {
            "text/html": [
              "<div>\n",
              "<style scoped>\n",
              "    .dataframe tbody tr th:only-of-type {\n",
              "        vertical-align: middle;\n",
              "    }\n",
              "\n",
              "    .dataframe tbody tr th {\n",
              "        vertical-align: top;\n",
              "    }\n",
              "\n",
              "    .dataframe thead th {\n",
              "        text-align: right;\n",
              "    }\n",
              "</style>\n",
              "<table border=\"1\" class=\"dataframe\">\n",
              "  <thead>\n",
              "    <tr style=\"text-align: right;\">\n",
              "      <th></th>\n",
              "      <th>post_was_edited</th>\n",
              "      <th>requester_account_age_in_days_at_request</th>\n",
              "      <th>requester_account_age_in_days_at_retrieval</th>\n",
              "      <th>requester_days_since_first_post_on_raop_at_request</th>\n",
              "      <th>requester_days_since_first_post_on_raop_at_retrieval</th>\n",
              "      <th>requester_number_of_comments_at_request</th>\n",
              "      <th>requester_number_of_comments_at_retrieval</th>\n",
              "      <th>requester_number_of_comments_in_raop_at_request</th>\n",
              "      <th>requester_number_of_comments_in_raop_at_retrieval</th>\n",
              "      <th>requester_number_of_posts_at_request</th>\n",
              "      <th>requester_number_of_posts_at_retrieval</th>\n",
              "      <th>requester_number_of_posts_on_raop_at_request</th>\n",
              "      <th>requester_number_of_posts_on_raop_at_retrieval</th>\n",
              "      <th>requester_number_of_subreddits_at_request</th>\n",
              "      <th>number_of_downvotes_of_request_at_retrieval</th>\n",
              "      <th>number_of_upvotes_of_request_at_retrieval</th>\n",
              "      <th>requester_upvotes_minus_downvotes_at_request</th>\n",
              "      <th>requester_upvotes_minus_downvotes_at_retrieval</th>\n",
              "      <th>requester_upvotes_plus_downvotes_at_request</th>\n",
              "      <th>requester_upvotes_plus_downvotes_at_retrieval</th>\n",
              "      <th>PIF</th>\n",
              "      <th>shroom</th>\n",
              "    </tr>\n",
              "  </thead>\n",
              "  <tbody>\n",
              "    <tr>\n",
              "      <th>4023</th>\n",
              "      <td>0</td>\n",
              "      <td>0.008431</td>\n",
              "      <td>0.237022</td>\n",
              "      <td>0.000000</td>\n",
              "      <td>0.676141</td>\n",
              "      <td>0.001004</td>\n",
              "      <td>0.001</td>\n",
              "      <td>0.000000</td>\n",
              "      <td>0.000000</td>\n",
              "      <td>0.000000</td>\n",
              "      <td>0.001001</td>\n",
              "      <td>0.0</td>\n",
              "      <td>0.111111</td>\n",
              "      <td>0.010753</td>\n",
              "      <td>0.020619</td>\n",
              "      <td>0.007246</td>\n",
              "      <td>0.001237</td>\n",
              "      <td>0.002097</td>\n",
              "      <td>0.000024</td>\n",
              "      <td>0.000015</td>\n",
              "      <td>0</td>\n",
              "      <td>0</td>\n",
              "    </tr>\n",
              "    <tr>\n",
              "      <th>2988</th>\n",
              "      <td>0</td>\n",
              "      <td>0.181924</td>\n",
              "      <td>0.197726</td>\n",
              "      <td>0.000000</td>\n",
              "      <td>0.092100</td>\n",
              "      <td>0.662651</td>\n",
              "      <td>0.789</td>\n",
              "      <td>0.000000</td>\n",
              "      <td>0.000000</td>\n",
              "      <td>0.048443</td>\n",
              "      <td>0.056056</td>\n",
              "      <td>0.0</td>\n",
              "      <td>0.111111</td>\n",
              "      <td>0.155914</td>\n",
              "      <td>0.010309</td>\n",
              "      <td>0.004831</td>\n",
              "      <td>0.017644</td>\n",
              "      <td>0.014619</td>\n",
              "      <td>0.002958</td>\n",
              "      <td>0.002085</td>\n",
              "      <td>0</td>\n",
              "      <td>0</td>\n",
              "    </tr>\n",
              "    <tr>\n",
              "      <th>3313</th>\n",
              "      <td>1</td>\n",
              "      <td>0.021661</td>\n",
              "      <td>0.260014</td>\n",
              "      <td>0.000000</td>\n",
              "      <td>0.703433</td>\n",
              "      <td>0.000000</td>\n",
              "      <td>0.999</td>\n",
              "      <td>0.000000</td>\n",
              "      <td>0.000000</td>\n",
              "      <td>0.013841</td>\n",
              "      <td>0.157157</td>\n",
              "      <td>0.0</td>\n",
              "      <td>0.111111</td>\n",
              "      <td>0.043011</td>\n",
              "      <td>0.020619</td>\n",
              "      <td>0.012077</td>\n",
              "      <td>0.002642</td>\n",
              "      <td>0.024161</td>\n",
              "      <td>0.000329</td>\n",
              "      <td>0.003387</td>\n",
              "      <td>0</td>\n",
              "      <td>0</td>\n",
              "    </tr>\n",
              "    <tr>\n",
              "      <th>3409</th>\n",
              "      <td>0</td>\n",
              "      <td>0.029240</td>\n",
              "      <td>0.039790</td>\n",
              "      <td>0.000000</td>\n",
              "      <td>0.000000</td>\n",
              "      <td>0.012048</td>\n",
              "      <td>0.013</td>\n",
              "      <td>0.000000</td>\n",
              "      <td>0.000000</td>\n",
              "      <td>0.002307</td>\n",
              "      <td>0.002002</td>\n",
              "      <td>0.0</td>\n",
              "      <td>0.000000</td>\n",
              "      <td>0.021505</td>\n",
              "      <td>0.092784</td>\n",
              "      <td>0.055556</td>\n",
              "      <td>0.002410</td>\n",
              "      <td>0.002913</td>\n",
              "      <td>0.000209</td>\n",
              "      <td>0.000132</td>\n",
              "      <td>0</td>\n",
              "      <td>0</td>\n",
              "    </tr>\n",
              "    <tr>\n",
              "      <th>676</th>\n",
              "      <td>0</td>\n",
              "      <td>0.137739</td>\n",
              "      <td>0.206471</td>\n",
              "      <td>0.000000</td>\n",
              "      <td>0.237342</td>\n",
              "      <td>0.256024</td>\n",
              "      <td>0.306</td>\n",
              "      <td>0.000000</td>\n",
              "      <td>0.000000</td>\n",
              "      <td>0.098039</td>\n",
              "      <td>0.110110</td>\n",
              "      <td>0.0</td>\n",
              "      <td>0.111111</td>\n",
              "      <td>0.247312</td>\n",
              "      <td>0.020619</td>\n",
              "      <td>0.007246</td>\n",
              "      <td>0.029546</td>\n",
              "      <td>0.037536</td>\n",
              "      <td>0.006486</td>\n",
              "      <td>0.007530</td>\n",
              "      <td>0</td>\n",
              "      <td>0</td>\n",
              "    </tr>\n",
              "    <tr>\n",
              "      <th>...</th>\n",
              "      <td>...</td>\n",
              "      <td>...</td>\n",
              "      <td>...</td>\n",
              "      <td>...</td>\n",
              "      <td>...</td>\n",
              "      <td>...</td>\n",
              "      <td>...</td>\n",
              "      <td>...</td>\n",
              "      <td>...</td>\n",
              "      <td>...</td>\n",
              "      <td>...</td>\n",
              "      <td>...</td>\n",
              "      <td>...</td>\n",
              "      <td>...</td>\n",
              "      <td>...</td>\n",
              "      <td>...</td>\n",
              "      <td>...</td>\n",
              "      <td>...</td>\n",
              "      <td>...</td>\n",
              "      <td>...</td>\n",
              "      <td>...</td>\n",
              "      <td>...</td>\n",
              "    </tr>\n",
              "    <tr>\n",
              "      <th>3772</th>\n",
              "      <td>0</td>\n",
              "      <td>0.192934</td>\n",
              "      <td>0.249444</td>\n",
              "      <td>0.000000</td>\n",
              "      <td>0.204870</td>\n",
              "      <td>0.000000</td>\n",
              "      <td>0.999</td>\n",
              "      <td>0.000000</td>\n",
              "      <td>0.000000</td>\n",
              "      <td>0.046136</td>\n",
              "      <td>0.059059</td>\n",
              "      <td>0.0</td>\n",
              "      <td>0.111111</td>\n",
              "      <td>0.102151</td>\n",
              "      <td>0.020619</td>\n",
              "      <td>0.019324</td>\n",
              "      <td>0.009718</td>\n",
              "      <td>0.038901</td>\n",
              "      <td>0.001860</td>\n",
              "      <td>0.006942</td>\n",
              "      <td>0</td>\n",
              "      <td>0</td>\n",
              "    </tr>\n",
              "    <tr>\n",
              "      <th>5191</th>\n",
              "      <td>0</td>\n",
              "      <td>0.260570</td>\n",
              "      <td>0.343056</td>\n",
              "      <td>0.000000</td>\n",
              "      <td>0.278298</td>\n",
              "      <td>0.056225</td>\n",
              "      <td>0.112</td>\n",
              "      <td>0.000000</td>\n",
              "      <td>0.000000</td>\n",
              "      <td>0.006920</td>\n",
              "      <td>0.014014</td>\n",
              "      <td>0.0</td>\n",
              "      <td>0.111111</td>\n",
              "      <td>0.091398</td>\n",
              "      <td>0.010309</td>\n",
              "      <td>0.002415</td>\n",
              "      <td>0.005999</td>\n",
              "      <td>0.006388</td>\n",
              "      <td>0.001006</td>\n",
              "      <td>0.000806</td>\n",
              "      <td>0</td>\n",
              "      <td>0</td>\n",
              "    </tr>\n",
              "    <tr>\n",
              "      <th>5226</th>\n",
              "      <td>0</td>\n",
              "      <td>0.085081</td>\n",
              "      <td>0.357237</td>\n",
              "      <td>0.000000</td>\n",
              "      <td>0.798314</td>\n",
              "      <td>0.038153</td>\n",
              "      <td>0.169</td>\n",
              "      <td>0.000000</td>\n",
              "      <td>0.014388</td>\n",
              "      <td>0.058824</td>\n",
              "      <td>0.127127</td>\n",
              "      <td>0.0</td>\n",
              "      <td>0.111111</td>\n",
              "      <td>0.123656</td>\n",
              "      <td>0.010309</td>\n",
              "      <td>0.004831</td>\n",
              "      <td>0.006985</td>\n",
              "      <td>0.023024</td>\n",
              "      <td>0.001522</td>\n",
              "      <td>0.004814</td>\n",
              "      <td>0</td>\n",
              "      <td>0</td>\n",
              "    </tr>\n",
              "    <tr>\n",
              "      <th>5390</th>\n",
              "      <td>0</td>\n",
              "      <td>0.025636</td>\n",
              "      <td>0.086197</td>\n",
              "      <td>0.091704</td>\n",
              "      <td>0.282399</td>\n",
              "      <td>0.003012</td>\n",
              "      <td>0.004</td>\n",
              "      <td>0.022727</td>\n",
              "      <td>0.021583</td>\n",
              "      <td>0.001153</td>\n",
              "      <td>0.002002</td>\n",
              "      <td>0.2</td>\n",
              "      <td>0.222222</td>\n",
              "      <td>0.010753</td>\n",
              "      <td>0.010309</td>\n",
              "      <td>0.009662</td>\n",
              "      <td>0.001153</td>\n",
              "      <td>0.002061</td>\n",
              "      <td>0.000006</td>\n",
              "      <td>0.000008</td>\n",
              "      <td>0</td>\n",
              "      <td>0</td>\n",
              "    </tr>\n",
              "    <tr>\n",
              "      <th>860</th>\n",
              "      <td>0</td>\n",
              "      <td>0.048276</td>\n",
              "      <td>0.220091</td>\n",
              "      <td>0.165513</td>\n",
              "      <td>0.646949</td>\n",
              "      <td>0.013052</td>\n",
              "      <td>0.067</td>\n",
              "      <td>0.011364</td>\n",
              "      <td>0.007194</td>\n",
              "      <td>0.001153</td>\n",
              "      <td>0.004004</td>\n",
              "      <td>0.0</td>\n",
              "      <td>0.111111</td>\n",
              "      <td>0.043011</td>\n",
              "      <td>0.010309</td>\n",
              "      <td>0.004831</td>\n",
              "      <td>0.001617</td>\n",
              "      <td>0.003698</td>\n",
              "      <td>0.000099</td>\n",
              "      <td>0.000262</td>\n",
              "      <td>0</td>\n",
              "      <td>0</td>\n",
              "    </tr>\n",
              "  </tbody>\n",
              "</table>\n",
              "<p>5104 rows × 22 columns</p>\n",
              "</div>"
            ],
            "text/plain": [
              "      post_was_edited  requester_account_age_in_days_at_request  ...  PIF  shroom\n",
              "4023                0                                  0.008431  ...    0       0\n",
              "2988                0                                  0.181924  ...    0       0\n",
              "3313                1                                  0.021661  ...    0       0\n",
              "3409                0                                  0.029240  ...    0       0\n",
              "676                 0                                  0.137739  ...    0       0\n",
              "...               ...                                       ...  ...  ...     ...\n",
              "3772                0                                  0.192934  ...    0       0\n",
              "5191                0                                  0.260570  ...    0       0\n",
              "5226                0                                  0.085081  ...    0       0\n",
              "5390                0                                  0.025636  ...    0       0\n",
              "860                 0                                  0.048276  ...    0       0\n",
              "\n",
              "[5104 rows x 22 columns]"
            ]
          },
          "metadata": {
            "tags": []
          },
          "execution_count": 27
        }
      ]
    },
    {
      "cell_type": "code",
      "metadata": {
        "colab": {
          "base_uri": "https://localhost:8080/",
          "height": 439
        },
        "id": "UpPmqQyPb1qU",
        "outputId": "d421a277-16b7-448d-e7bc-1ca82f33da26"
      },
      "source": [
        "X_test_norm"
      ],
      "execution_count": 28,
      "outputs": [
        {
          "output_type": "execute_result",
          "data": {
            "text/html": [
              "<div>\n",
              "<style scoped>\n",
              "    .dataframe tbody tr th:only-of-type {\n",
              "        vertical-align: middle;\n",
              "    }\n",
              "\n",
              "    .dataframe tbody tr th {\n",
              "        vertical-align: top;\n",
              "    }\n",
              "\n",
              "    .dataframe thead th {\n",
              "        text-align: right;\n",
              "    }\n",
              "</style>\n",
              "<table border=\"1\" class=\"dataframe\">\n",
              "  <thead>\n",
              "    <tr style=\"text-align: right;\">\n",
              "      <th></th>\n",
              "      <th>post_was_edited</th>\n",
              "      <th>requester_account_age_in_days_at_request</th>\n",
              "      <th>requester_account_age_in_days_at_retrieval</th>\n",
              "      <th>requester_days_since_first_post_on_raop_at_request</th>\n",
              "      <th>requester_days_since_first_post_on_raop_at_retrieval</th>\n",
              "      <th>requester_number_of_comments_at_request</th>\n",
              "      <th>requester_number_of_comments_at_retrieval</th>\n",
              "      <th>requester_number_of_comments_in_raop_at_request</th>\n",
              "      <th>requester_number_of_comments_in_raop_at_retrieval</th>\n",
              "      <th>requester_number_of_posts_at_request</th>\n",
              "      <th>requester_number_of_posts_at_retrieval</th>\n",
              "      <th>requester_number_of_posts_on_raop_at_request</th>\n",
              "      <th>requester_number_of_posts_on_raop_at_retrieval</th>\n",
              "      <th>requester_number_of_subreddits_at_request</th>\n",
              "      <th>number_of_downvotes_of_request_at_retrieval</th>\n",
              "      <th>number_of_upvotes_of_request_at_retrieval</th>\n",
              "      <th>requester_upvotes_minus_downvotes_at_request</th>\n",
              "      <th>requester_upvotes_minus_downvotes_at_retrieval</th>\n",
              "      <th>requester_upvotes_plus_downvotes_at_request</th>\n",
              "      <th>requester_upvotes_plus_downvotes_at_retrieval</th>\n",
              "      <th>PIF</th>\n",
              "      <th>shroom</th>\n",
              "    </tr>\n",
              "  </thead>\n",
              "  <tbody>\n",
              "    <tr>\n",
              "      <th>3671</th>\n",
              "      <td>0</td>\n",
              "      <td>0.000000</td>\n",
              "      <td>0.076778</td>\n",
              "      <td>0.000000</td>\n",
              "      <td>0.322287</td>\n",
              "      <td>0.000000</td>\n",
              "      <td>0.005</td>\n",
              "      <td>0.000000</td>\n",
              "      <td>0.016129</td>\n",
              "      <td>0.000000</td>\n",
              "      <td>0.000000</td>\n",
              "      <td>0.0</td>\n",
              "      <td>0.166667</td>\n",
              "      <td>0.004255</td>\n",
              "      <td>0.411765</td>\n",
              "      <td>0.061594</td>\n",
              "      <td>0.000415</td>\n",
              "      <td>0.000000</td>\n",
              "      <td>0.000234</td>\n",
              "      <td>0.000389</td>\n",
              "      <td>0</td>\n",
              "      <td>0</td>\n",
              "    </tr>\n",
              "    <tr>\n",
              "      <th>5183</th>\n",
              "      <td>0</td>\n",
              "      <td>0.091958</td>\n",
              "      <td>0.163111</td>\n",
              "      <td>0.000000</td>\n",
              "      <td>0.347313</td>\n",
              "      <td>0.108871</td>\n",
              "      <td>0.131</td>\n",
              "      <td>0.000000</td>\n",
              "      <td>0.000000</td>\n",
              "      <td>0.054299</td>\n",
              "      <td>0.031765</td>\n",
              "      <td>0.0</td>\n",
              "      <td>0.166667</td>\n",
              "      <td>0.106383</td>\n",
              "      <td>0.117647</td>\n",
              "      <td>0.014493</td>\n",
              "      <td>0.022020</td>\n",
              "      <td>0.011542</td>\n",
              "      <td>0.007000</td>\n",
              "      <td>0.004887</td>\n",
              "      <td>0</td>\n",
              "      <td>0</td>\n",
              "    </tr>\n",
              "    <tr>\n",
              "      <th>1859</th>\n",
              "      <td>0</td>\n",
              "      <td>0.183949</td>\n",
              "      <td>0.211209</td>\n",
              "      <td>0.000000</td>\n",
              "      <td>0.262884</td>\n",
              "      <td>0.416331</td>\n",
              "      <td>0.622</td>\n",
              "      <td>0.000000</td>\n",
              "      <td>0.016129</td>\n",
              "      <td>0.126697</td>\n",
              "      <td>0.092941</td>\n",
              "      <td>0.0</td>\n",
              "      <td>0.666667</td>\n",
              "      <td>0.225532</td>\n",
              "      <td>0.117647</td>\n",
              "      <td>0.018116</td>\n",
              "      <td>0.076371</td>\n",
              "      <td>0.059128</td>\n",
              "      <td>0.023527</td>\n",
              "      <td>0.026393</td>\n",
              "      <td>0</td>\n",
              "      <td>1</td>\n",
              "    </tr>\n",
              "    <tr>\n",
              "      <th>2589</th>\n",
              "      <td>0</td>\n",
              "      <td>0.047386</td>\n",
              "      <td>0.049891</td>\n",
              "      <td>0.000000</td>\n",
              "      <td>0.131049</td>\n",
              "      <td>0.394153</td>\n",
              "      <td>0.998</td>\n",
              "      <td>0.000000</td>\n",
              "      <td>0.032258</td>\n",
              "      <td>0.169683</td>\n",
              "      <td>0.168235</td>\n",
              "      <td>0.0</td>\n",
              "      <td>0.166667</td>\n",
              "      <td>0.268085</td>\n",
              "      <td>0.058824</td>\n",
              "      <td>0.014493</td>\n",
              "      <td>0.159314</td>\n",
              "      <td>0.132458</td>\n",
              "      <td>0.052304</td>\n",
              "      <td>0.062359</td>\n",
              "      <td>0</td>\n",
              "      <td>0</td>\n",
              "    </tr>\n",
              "    <tr>\n",
              "      <th>1662</th>\n",
              "      <td>0</td>\n",
              "      <td>0.162349</td>\n",
              "      <td>0.445451</td>\n",
              "      <td>0.000000</td>\n",
              "      <td>0.984788</td>\n",
              "      <td>0.039315</td>\n",
              "      <td>0.461</td>\n",
              "      <td>0.000000</td>\n",
              "      <td>0.048387</td>\n",
              "      <td>0.011312</td>\n",
              "      <td>0.062353</td>\n",
              "      <td>0.0</td>\n",
              "      <td>0.333333</td>\n",
              "      <td>0.055319</td>\n",
              "      <td>0.058824</td>\n",
              "      <td>0.047101</td>\n",
              "      <td>0.009291</td>\n",
              "      <td>0.087119</td>\n",
              "      <td>0.002219</td>\n",
              "      <td>0.034520</td>\n",
              "      <td>0</td>\n",
              "      <td>1</td>\n",
              "    </tr>\n",
              "    <tr>\n",
              "      <th>...</th>\n",
              "      <td>...</td>\n",
              "      <td>...</td>\n",
              "      <td>...</td>\n",
              "      <td>...</td>\n",
              "      <td>...</td>\n",
              "      <td>...</td>\n",
              "      <td>...</td>\n",
              "      <td>...</td>\n",
              "      <td>...</td>\n",
              "      <td>...</td>\n",
              "      <td>...</td>\n",
              "      <td>...</td>\n",
              "      <td>...</td>\n",
              "      <td>...</td>\n",
              "      <td>...</td>\n",
              "      <td>...</td>\n",
              "      <td>...</td>\n",
              "      <td>...</td>\n",
              "      <td>...</td>\n",
              "      <td>...</td>\n",
              "      <td>...</td>\n",
              "      <td>...</td>\n",
              "    </tr>\n",
              "    <tr>\n",
              "      <th>3817</th>\n",
              "      <td>0</td>\n",
              "      <td>0.000380</td>\n",
              "      <td>0.088683</td>\n",
              "      <td>0.000000</td>\n",
              "      <td>0.355411</td>\n",
              "      <td>0.001008</td>\n",
              "      <td>0.023</td>\n",
              "      <td>0.000000</td>\n",
              "      <td>0.000000</td>\n",
              "      <td>0.002262</td>\n",
              "      <td>0.010588</td>\n",
              "      <td>0.0</td>\n",
              "      <td>0.333333</td>\n",
              "      <td>0.008511</td>\n",
              "      <td>0.029412</td>\n",
              "      <td>0.003623</td>\n",
              "      <td>0.000453</td>\n",
              "      <td>0.003434</td>\n",
              "      <td>0.000037</td>\n",
              "      <td>0.001248</td>\n",
              "      <td>0</td>\n",
              "      <td>0</td>\n",
              "    </tr>\n",
              "    <tr>\n",
              "      <th>151</th>\n",
              "      <td>0</td>\n",
              "      <td>0.005132</td>\n",
              "      <td>0.266046</td>\n",
              "      <td>0.000000</td>\n",
              "      <td>0.851058</td>\n",
              "      <td>0.003024</td>\n",
              "      <td>0.111</td>\n",
              "      <td>0.000000</td>\n",
              "      <td>0.016129</td>\n",
              "      <td>0.000000</td>\n",
              "      <td>0.005882</td>\n",
              "      <td>0.0</td>\n",
              "      <td>0.166667</td>\n",
              "      <td>0.004255</td>\n",
              "      <td>0.147059</td>\n",
              "      <td>0.032609</td>\n",
              "      <td>0.000491</td>\n",
              "      <td>0.014184</td>\n",
              "      <td>0.000029</td>\n",
              "      <td>0.005802</td>\n",
              "      <td>0</td>\n",
              "      <td>1</td>\n",
              "    </tr>\n",
              "    <tr>\n",
              "      <th>763</th>\n",
              "      <td>0</td>\n",
              "      <td>0.223704</td>\n",
              "      <td>0.191840</td>\n",
              "      <td>0.191731</td>\n",
              "      <td>0.215069</td>\n",
              "      <td>0.503024</td>\n",
              "      <td>0.513</td>\n",
              "      <td>0.000000</td>\n",
              "      <td>0.032258</td>\n",
              "      <td>0.056561</td>\n",
              "      <td>0.030588</td>\n",
              "      <td>0.2</td>\n",
              "      <td>0.333333</td>\n",
              "      <td>0.204255</td>\n",
              "      <td>0.117647</td>\n",
              "      <td>0.018116</td>\n",
              "      <td>0.231455</td>\n",
              "      <td>0.110957</td>\n",
              "      <td>0.081945</td>\n",
              "      <td>0.053497</td>\n",
              "      <td>0</td>\n",
              "      <td>0</td>\n",
              "    </tr>\n",
              "    <tr>\n",
              "      <th>3724</th>\n",
              "      <td>0</td>\n",
              "      <td>0.580614</td>\n",
              "      <td>0.753375</td>\n",
              "      <td>0.235980</td>\n",
              "      <td>0.983607</td>\n",
              "      <td>0.472782</td>\n",
              "      <td>1.000</td>\n",
              "      <td>0.053571</td>\n",
              "      <td>0.080645</td>\n",
              "      <td>0.065611</td>\n",
              "      <td>0.132941</td>\n",
              "      <td>0.0</td>\n",
              "      <td>0.166667</td>\n",
              "      <td>0.136170</td>\n",
              "      <td>0.000000</td>\n",
              "      <td>0.007246</td>\n",
              "      <td>0.028630</td>\n",
              "      <td>0.028315</td>\n",
              "      <td>0.008150</td>\n",
              "      <td>0.012719</td>\n",
              "      <td>0</td>\n",
              "      <td>0</td>\n",
              "    </tr>\n",
              "    <tr>\n",
              "      <th>2464</th>\n",
              "      <td>0</td>\n",
              "      <td>0.090550</td>\n",
              "      <td>0.203018</td>\n",
              "      <td>0.314136</td>\n",
              "      <td>0.634283</td>\n",
              "      <td>0.074597</td>\n",
              "      <td>0.144</td>\n",
              "      <td>0.142857</td>\n",
              "      <td>0.193548</td>\n",
              "      <td>0.022624</td>\n",
              "      <td>0.020000</td>\n",
              "      <td>0.0</td>\n",
              "      <td>0.166667</td>\n",
              "      <td>0.106383</td>\n",
              "      <td>0.029412</td>\n",
              "      <td>0.007246</td>\n",
              "      <td>0.033124</td>\n",
              "      <td>0.021178</td>\n",
              "      <td>0.012697</td>\n",
              "      <td>0.010295</td>\n",
              "      <td>0</td>\n",
              "      <td>0</td>\n",
              "    </tr>\n",
              "  </tbody>\n",
              "</table>\n",
              "<p>567 rows × 22 columns</p>\n",
              "</div>"
            ],
            "text/plain": [
              "      post_was_edited  requester_account_age_in_days_at_request  ...  PIF  shroom\n",
              "3671                0                                  0.000000  ...    0       0\n",
              "5183                0                                  0.091958  ...    0       0\n",
              "1859                0                                  0.183949  ...    0       1\n",
              "2589                0                                  0.047386  ...    0       0\n",
              "1662                0                                  0.162349  ...    0       1\n",
              "...               ...                                       ...  ...  ...     ...\n",
              "3817                0                                  0.000380  ...    0       0\n",
              "151                 0                                  0.005132  ...    0       1\n",
              "763                 0                                  0.223704  ...    0       0\n",
              "3724                0                                  0.580614  ...    0       0\n",
              "2464                0                                  0.090550  ...    0       0\n",
              "\n",
              "[567 rows x 22 columns]"
            ]
          },
          "metadata": {
            "tags": []
          },
          "execution_count": 28
        }
      ]
    },
    {
      "cell_type": "code",
      "metadata": {
        "colab": {
          "base_uri": "https://localhost:8080/"
        },
        "id": "phshItvtDYdD",
        "outputId": "2d74ca10-d450-40da-83b1-78dd61061578"
      },
      "source": [
        "X_train_np = X_train_norm.to_numpy()\n",
        "X_test_np = X_test_norm.to_numpy()\n",
        "X_train_np.shape"
      ],
      "execution_count": 29,
      "outputs": [
        {
          "output_type": "execute_result",
          "data": {
            "text/plain": [
              "(5104, 22)"
            ]
          },
          "metadata": {
            "tags": []
          },
          "execution_count": 29
        }
      ]
    },
    {
      "cell_type": "code",
      "metadata": {
        "colab": {
          "base_uri": "https://localhost:8080/"
        },
        "id": "GGAwPqEMF7bS",
        "outputId": "efa0519e-22a1-48d6-bc9a-f32188a0b6cf"
      },
      "source": [
        "X_test_np.shape"
      ],
      "execution_count": 30,
      "outputs": [
        {
          "output_type": "execute_result",
          "data": {
            "text/plain": [
              "(567, 22)"
            ]
          },
          "metadata": {
            "tags": []
          },
          "execution_count": 30
        }
      ]
    },
    {
      "cell_type": "code",
      "metadata": {
        "colab": {
          "base_uri": "https://localhost:8080/"
        },
        "id": "wT7wxI0ZD4J3",
        "outputId": "12842f38-5367-49f4-85ad-4d3d9fa582d0"
      },
      "source": [
        "final_X_train_np = np.concatenate((X_train_np,np_subreddits_train),axis=1)\n",
        "final_X_test_np = np.concatenate((X_test_np,np_subreddits_test),axis=1)\n",
        "final_X_train_np"
      ],
      "execution_count": 31,
      "outputs": [
        {
          "output_type": "execute_result",
          "data": {
            "text/plain": [
              "array([[0.        , 0.00843083, 0.23702223, ..., 0.        , 0.        ,\n",
              "        0.        ],\n",
              "       [0.        , 0.18192425, 0.19772573, ..., 1.        , 0.        ,\n",
              "        1.        ],\n",
              "       [1.        , 0.0216612 , 0.26001422, ..., 0.        , 0.        ,\n",
              "        0.        ],\n",
              "       ...,\n",
              "       [0.        , 0.08508148, 0.35723721, ..., 1.        , 1.        ,\n",
              "        0.        ],\n",
              "       [0.        , 0.0256357 , 0.08619742, ..., 0.        , 0.        ,\n",
              "        0.        ],\n",
              "       [0.        , 0.04827613, 0.22009133, ..., 0.        , 0.        ,\n",
              "        0.        ]])"
            ]
          },
          "metadata": {
            "tags": []
          },
          "execution_count": 31
        }
      ]
    },
    {
      "cell_type": "code",
      "metadata": {
        "colab": {
          "base_uri": "https://localhost:8080/"
        },
        "id": "nRbu9BBvEWkQ",
        "outputId": "7f8df174-a02b-4943-f8fb-7a2fd1a26dde"
      },
      "source": [
        "final_X_train_np.shape"
      ],
      "execution_count": 34,
      "outputs": [
        {
          "output_type": "execute_result",
          "data": {
            "text/plain": [
              "(5104, 32)"
            ]
          },
          "metadata": {
            "tags": []
          },
          "execution_count": 34
        }
      ]
    },
    {
      "cell_type": "code",
      "metadata": {
        "colab": {
          "base_uri": "https://localhost:8080/"
        },
        "id": "SjLg0vlAHAvM",
        "outputId": "9f04033b-a75e-4509-e269-85e8f5b650fe"
      },
      "source": [
        "#normalize\n",
        "final_X_test_np"
      ],
      "execution_count": 32,
      "outputs": [
        {
          "output_type": "execute_result",
          "data": {
            "text/plain": [
              "array([[0.        , 0.        , 0.07677809, ..., 0.        , 0.        ,\n",
              "        0.        ],\n",
              "       [0.        , 0.09195805, 0.16311123, ..., 0.        , 0.        ,\n",
              "        0.        ],\n",
              "       [0.        , 0.18394918, 0.21120938, ..., 1.        , 1.        ,\n",
              "        1.        ],\n",
              "       ...,\n",
              "       [0.        , 0.22370446, 0.19183984, ..., 1.        , 1.        ,\n",
              "        1.        ],\n",
              "       [0.        , 0.58061437, 0.75337477, ..., 1.        , 1.        ,\n",
              "        0.        ],\n",
              "       [0.        , 0.09055006, 0.20301815, ..., 0.        , 0.        ,\n",
              "        1.        ]])"
            ]
          },
          "metadata": {
            "tags": []
          },
          "execution_count": 32
        }
      ]
    },
    {
      "cell_type": "code",
      "metadata": {
        "colab": {
          "base_uri": "https://localhost:8080/"
        },
        "id": "B7J8XcKib-T_",
        "outputId": "f9bef97e-de1b-4f99-eb9c-15d4b4dff27a"
      },
      "source": [
        "final_X_test_np.shape"
      ],
      "execution_count": 35,
      "outputs": [
        {
          "output_type": "execute_result",
          "data": {
            "text/plain": [
              "(567, 32)"
            ]
          },
          "metadata": {
            "tags": []
          },
          "execution_count": 35
        }
      ]
    },
    {
      "cell_type": "code",
      "metadata": {
        "id": "9R7S1NCwEeIn"
      },
      "source": [
        "# clf = svm.SVC(kernel='linear')\n",
        "# clf.fit(final_X_train_np, y_int)"
      ],
      "execution_count": null,
      "outputs": []
    },
    {
      "cell_type": "code",
      "metadata": {
        "id": "2miEM45jcF2g"
      },
      "source": [
        "from sklearn.linear_model import SGDClassifier"
      ],
      "execution_count": 37,
      "outputs": []
    },
    {
      "cell_type": "code",
      "metadata": {
        "id": "IHMUxMZD46hA"
      },
      "source": [
        "clf = SGDClassifier(loss=\"hinge\").fit(final_X_train_np, y_int)"
      ],
      "execution_count": 38,
      "outputs": []
    },
    {
      "cell_type": "code",
      "metadata": {
        "id": "xtUUCr4H4_V3"
      },
      "source": [
        "#combine these three dataframes: X_test_1b_no_flair, sub_one_hot_test_df, test_one_hot_flair, \n",
        "test_set_preds = clf.predict(final_X_test_np)"
      ],
      "execution_count": 39,
      "outputs": []
    },
    {
      "cell_type": "code",
      "metadata": {
        "id": "3QJe8oFNcYmR"
      },
      "source": [
        "y_test = test['requester_received_pizza']\n",
        "y_test = [int(val == True) for val in y_test]\n"
      ],
      "execution_count": 42,
      "outputs": []
    },
    {
      "cell_type": "code",
      "metadata": {
        "id": "wZ4YA8VlmEVc"
      },
      "source": [
        "import sklearn.metrics\n",
        "\n",
        "accuracy_1a = clf.score(final_X_test_np, y_test)\n",
        "precision_1a = sklearn.metrics.precision_score(y_test, test_set_preds)\n",
        "recall_1a = sklearn.metrics.recall_score(y_test, test_set_preds)\n",
        "f1_1a = sklearn.metrics.f1_score(y_test, test_set_preds)\n",
        "auc_1a= sklearn.metrics.roc_auc_score(y_test, test_set_preds)\n",
        "\n",
        "tn, fp, fn, tp = sklearn.metrics.confusion_matrix(y_test, test_set_preds).ravel()\n",
        "specificity_1a = tn / (tn+fp)\n"
      ],
      "execution_count": 43,
      "outputs": []
    },
    {
      "cell_type": "code",
      "metadata": {
        "id": "8OPlcV965HjW"
      },
      "source": [
        "#clf = SGDClassifier(loss=\"hinge\").fit(X_train_1b_lst, y_int)\n",
        "import sklearn.metrics\n",
        "\n",
        "accuracy_1a = clf.score(normed_matrix_test, y_test)\n",
        "precision_1a = sklearn.metrics.precision_score(y_test, test_set_preds)\n",
        "recall_1a = sklearn.metrics.recall_score(y_test, test_set_preds)\n",
        "f1_1a = sklearn.metrics.f1_score(y_test, test_set_preds)\n",
        "auc_1a= sklearn.metrics.roc_auc_score(y_test, test_set_preds)\n",
        "\n",
        "tn, fp, fn, tp = sklearn.metrics.confusion_matrix(y_test, test_set_preds).ravel()\n",
        "specificity_1a = tn / (tn+fp)"
      ],
      "execution_count": null,
      "outputs": []
    },
    {
      "cell_type": "code",
      "metadata": {
        "colab": {
          "base_uri": "https://localhost:8080/"
        },
        "id": "biqiTTZXD6K1",
        "outputId": "63058775-92ef-4f76-cd6d-f4c908e3229f"
      },
      "source": [
        "print(\"Answers for 1b: \")\n",
        "print(\"accuracy: \" + str(accuracy_1a))\n",
        "print(\"precision: \" +str(precision_1a))\n",
        "print(\"recall: \" + str(recall_1a))\n",
        "print(\"f1: \" + str(f1_1a))\n",
        "print(\"auc: \" + str(auc_1a))\n",
        "print(\"specificity \" + str(specificity_1a))"
      ],
      "execution_count": 44,
      "outputs": [
        {
          "output_type": "stream",
          "text": [
            "Answers for 1b: \n",
            "accuracy: 0.9153439153439153\n",
            "precision: 0.9391304347826087\n",
            "recall: 0.7248322147651006\n",
            "f1: 0.8181818181818182\n",
            "auc: 0.8540429016409234\n",
            "specificity 0.9832535885167464\n"
          ],
          "name": "stdout"
        }
      ]
    },
    {
      "cell_type": "code",
      "metadata": {
        "id": "lpFINmFFEDI3"
      },
      "source": [
        "y_test = test['requester_received_pizza']\n",
        "y_test = [int(val == True) for val in y_test]"
      ],
      "execution_count": null,
      "outputs": []
    },
    {
      "cell_type": "markdown",
      "metadata": {
        "id": "7s57jIeZe-x4"
      },
      "source": [
        "Model 3"
      ]
    },
    {
      "cell_type": "code",
      "metadata": {
        "id": "-mrjZARiEGBl"
      },
      "source": [
        "desire_set  = set(line.strip() for line in open('desire.txt'))\n",
        "family_set = set(line.strip() for line in open('family.txt'))\n",
        "job_set = set(line.strip() for line in open('job.txt'))\n",
        "money_set = set(line.strip() for line in open('money.txt'))\n",
        "student_set = set(line.strip() for line in open('student.txt'))"
      ],
      "execution_count": null,
      "outputs": []
    },
    {
      "cell_type": "code",
      "metadata": {
        "id": "AKCix0xHbMuh"
      },
      "source": [
        "all_sets = [desire_set, family_set, job_set, money_set, student_set]"
      ],
      "execution_count": null,
      "outputs": []
    },
    {
      "cell_type": "code",
      "metadata": {
        "id": "hrjfAQLWtnsI"
      },
      "source": [
        "X_train_1c = []\n",
        "for text in train['request_text'].tolist():\n",
        "  total_word_count = len(text.split())\n",
        "\n",
        "  row =[]\n",
        "  for i in range(len(all_sets)):\n",
        "    curr_set = all_sets[i]\n",
        "    set_word_count = 0\n",
        "    for word in curr_set:\n",
        "      if word in text:\n",
        "        set_word_count +=1\n",
        "    if total_word_count > 0:\n",
        "      row.append(set_word_count/total_word_count)\n",
        "    else:\n",
        "      row.append(0)\n",
        "  X_train_1c.append(row)\n",
        "\n",
        "X_train_1c"
      ],
      "execution_count": null,
      "outputs": []
    },
    {
      "cell_type": "code",
      "metadata": {
        "colab": {
          "base_uri": "https://localhost:8080/"
        },
        "id": "RnLpPII5vCXV",
        "outputId": "b54eeef3-5813-4f30-9a59-539eb3f7eef8"
      },
      "source": [
        "X_train_1c_np = np.array(X_train_1c)\n",
        "X_train_1c_np.shape"
      ],
      "execution_count": null,
      "outputs": [
        {
          "output_type": "execute_result",
          "data": {
            "text/plain": [
              "(5104, 5)"
            ]
          },
          "metadata": {
            "tags": []
          },
          "execution_count": 56
        }
      ]
    },
    {
      "cell_type": "code",
      "metadata": {
        "colab": {
          "base_uri": "https://localhost:8080/"
        },
        "id": "2AqYsRDHxTxA",
        "outputId": "3fdde06f-94a3-4909-e603-977f33b9c0c6"
      },
      "source": [
        "X_test_1c = []\n",
        "for text in test['request_text'].tolist():\n",
        "  total_word_count = len(text.split())\n",
        "\n",
        "  row =[]\n",
        "  for i in range(len(all_sets)):\n",
        "    curr_set = all_sets[i]\n",
        "    set_word_count = 0\n",
        "    for word in curr_set:\n",
        "      if word in text:\n",
        "        set_word_count +=1\n",
        "    if total_word_count > 0:\n",
        "      row.append(set_word_count/total_word_count)\n",
        "    else:\n",
        "      row.append(0)\n",
        "  X_test_1c.append(row)\n",
        "\n",
        "X_test_1c\n",
        "X_test_1c_np = np.array(X_test_1c)\n",
        "X_test_1c_np.shape"
      ],
      "execution_count": null,
      "outputs": [
        {
          "output_type": "execute_result",
          "data": {
            "text/plain": [
              "(567, 5)"
            ]
          },
          "metadata": {
            "tags": []
          },
          "execution_count": 57
        }
      ]
    },
    {
      "cell_type": "code",
      "metadata": {
        "id": "F_b0r83Ljrgb"
      },
      "source": [
        "y_tr = train['requester_received_pizza']\n",
        "y_train = [int(val == True) for val in y_tr]\n",
        "\n",
        "y_te = test['requester_received_pizza']\n",
        "y_test = [int(val == True) for val in y_te]\n"
      ],
      "execution_count": null,
      "outputs": []
    },
    {
      "cell_type": "code",
      "metadata": {
        "id": "a8mGXdQhmpu7"
      },
      "source": [
        "from sklearn import svm\n",
        "from sklearn import linear_model\n"
      ],
      "execution_count": null,
      "outputs": []
    },
    {
      "cell_type": "code",
      "metadata": {
        "id": "7pJeiKjKymuW"
      },
      "source": [
        "y_train"
      ],
      "execution_count": null,
      "outputs": []
    },
    {
      "cell_type": "code",
      "metadata": {
        "id": "rudX05TZj8d9"
      },
      "source": [
        "#from sklearn import svm\n",
        "#from sklearn import linear_model\n",
        "\n",
        "svm3 = linear_model.SGDClassifier(loss='hinge', penalty='l2', alpha=.001).fit(X_train_1c_np, y_train)\n",
        "#clf = sklearn.linear_model.SGDClassifier(loss=\"hinge\").fit(X_1c, y_train)"
      ],
      "execution_count": null,
      "outputs": []
    },
    {
      "cell_type": "code",
      "metadata": {
        "colab": {
          "base_uri": "https://localhost:8080/"
        },
        "id": "w8j4yQ9BkXTp",
        "outputId": "a4fe91dd-70fc-4837-ae61-025fd7121393"
      },
      "source": [
        "import sklearn.metrics\n",
        "\n",
        "\n",
        "test_set_preds = svm3.predict(X_test_1c_np)\n",
        "\n",
        "accuracy_1a = svm3.score(X_test_1c, y_test)\n",
        "precision_1a = sklearn.metrics.precision_score(y_test, test_set_preds)\n",
        "recall_1a = sklearn.metrics.recall_score(y_test, test_set_preds)\n",
        "f1_1a = sklearn.metrics.f1_score(y_test, test_set_preds)\n",
        "auc_1a= sklearn.metrics.roc_auc_score(y_test, test_set_preds)\n",
        "\n",
        "tn, fp, fn, tp = sklearn.metrics.confusion_matrix(y_test, test_set_preds).ravel()\n",
        "specificity_1a = tn / (tn+fp)\n",
        "\n",
        "print(\"Answers for 1c: \")\n",
        "print(\"accuracy: \" + str(accuracy_1a))\n",
        "print(\"precision: \" +str(precision_1a))\n",
        "print(\"recall: \" + str(recall_1a))\n",
        "print(\"f1: \" + str(f1_1a))\n",
        "print(\"auc: \" + str(auc_1a))\n",
        "print(tn)\n",
        "print(fp)\n",
        "print(tp)\n",
        "print(fn)"
      ],
      "execution_count": null,
      "outputs": [
        {
          "output_type": "stream",
          "text": [
            "Answers for 1c: \n",
            "accuracy: 0.7372134038800705\n",
            "precision: 0.0\n",
            "recall: 0.0\n",
            "f1: 0.0\n",
            "auc: 0.5\n",
            "418\n",
            "0\n",
            "0\n",
            "149\n"
          ],
          "name": "stdout"
        },
        {
          "output_type": "stream",
          "text": [
            "/usr/local/lib/python3.7/dist-packages/sklearn/metrics/_classification.py:1272: UndefinedMetricWarning: Precision is ill-defined and being set to 0.0 due to no predicted samples. Use `zero_division` parameter to control this behavior.\n",
            "  _warn_prf(average, modifier, msg_start, len(result))\n"
          ],
          "name": "stderr"
        }
      ]
    },
    {
      "cell_type": "code",
      "metadata": {
        "id": "b0EvTR28xtdU"
      },
      "source": [
        "test_set_preds"
      ],
      "execution_count": null,
      "outputs": []
    },
    {
      "cell_type": "code",
      "metadata": {
        "id": "Ko7exaJmx7x0"
      },
      "source": [
        "y_test"
      ],
      "execution_count": null,
      "outputs": []
    },
    {
      "cell_type": "code",
      "metadata": {
        "id": "IMTb281G6Sgl"
      },
      "source": [
        "\n",
        "# 01                    HarmVirtue\n",
        "# 02                    HarmVice\n",
        "# 03                    FairnessVirtue\n",
        "# 04                    FairnessVice\n",
        "# 05                    IngroupVirtue\n",
        "# 06                    IngroupVice\n",
        "# 07                    AuthorityVirtue\n",
        "# 08                    AuthorityVice\n",
        "# 09                    PurityVirtue\n",
        "# 10                    PurityVice\n",
        "# 11                    MoralityGeneral"
      ],
      "execution_count": null,
      "outputs": []
    },
    {
      "cell_type": "markdown",
      "metadata": {
        "id": "kOeHMWjTfBtd"
      },
      "source": [
        "Model 4\n"
      ]
    },
    {
      "cell_type": "code",
      "metadata": {
        "id": "3D3O53qg7Qn2"
      },
      "source": [
        "d = {1:[], 2:[], 3:[], 4:[], 5:[],6:[],7:[],8:[],9:[],10:[],11:[] }\n"
      ],
      "execution_count": null,
      "outputs": []
    },
    {
      "cell_type": "code",
      "metadata": {
        "id": "cUJ3nIrHz979"
      },
      "source": [
        "d = {1:[], 2:[], 3:[], 4:[], 5:[],6:[],7:[],8:[],9:[],10:[],11:[] }\n",
        "\n",
        "with open(\"MoralFoundations_dic_only.txt\") as f:\n",
        "    for line in f:\n",
        "      #print(line)\n",
        "      lst = line.split()\n",
        "      if len(lst) >1:\n",
        "        #print(lst)\n",
        "        word = lst[0]\n",
        "\n",
        "        word = word.replace('*', '')\n",
        "\n",
        "        indecies = lst[1:]\n",
        "        for i in indecies:\n",
        "          toint = int(i)\n",
        "          d[toint].append(word)"
      ],
      "execution_count": null,
      "outputs": []
    },
    {
      "cell_type": "code",
      "metadata": {
        "id": "QCR-TpVSx9PX"
      },
      "source": [
        "\n",
        "X_train_1d = []\n",
        "for text in train['request_text'].tolist():\n",
        "  total_word_count = len(text.split())\n",
        "\n",
        "  row =[]\n",
        "  for i in range(len(d)):\n",
        "    curr_set = d[i+1]\n",
        "    set_word_count = 0\n",
        "    for word in curr_set:\n",
        "      if word in text:\n",
        "        set_word_count +=1\n",
        "    if total_word_count > 0:\n",
        "      row.append(set_word_count/total_word_count)\n",
        "    else:\n",
        "      row.append(0)\n",
        "  X_train_1d.append(row)\n",
        "\n",
        "X_train_1d"
      ],
      "execution_count": null,
      "outputs": []
    },
    {
      "cell_type": "code",
      "metadata": {
        "id": "YrLFd35a8yuw"
      },
      "source": [
        "\n",
        "X_test_1d = []\n",
        "for text in test['request_text'].tolist():\n",
        "  total_word_count = len(text.split())\n",
        "\n",
        "  row =[]\n",
        "  for i in range(len(d)):\n",
        "    curr_set = d[i+1]\n",
        "    set_word_count = 0\n",
        "    for word in curr_set:\n",
        "      if word in text:\n",
        "        set_word_count +=1\n",
        "    if total_word_count > 0:\n",
        "      row.append(set_word_count/total_word_count)\n",
        "    else:\n",
        "      row.append(0)\n",
        "  X_test_1d.append(row)\n"
      ],
      "execution_count": null,
      "outputs": []
    },
    {
      "cell_type": "code",
      "metadata": {
        "colab": {
          "base_uri": "https://localhost:8080/"
        },
        "id": "w46DJcg-9Kdb",
        "outputId": "c563aa8a-ddab-48bd-9c57-c400a7b68a8b"
      },
      "source": [
        "X_train_1d_np = np.array(X_train_1d)\n",
        "X_train_1d_np.shape"
      ],
      "execution_count": null,
      "outputs": [
        {
          "output_type": "execute_result",
          "data": {
            "text/plain": [
              "(5104, 11)"
            ]
          },
          "metadata": {
            "tags": []
          },
          "execution_count": 95
        }
      ]
    },
    {
      "cell_type": "code",
      "metadata": {
        "colab": {
          "base_uri": "https://localhost:8080/"
        },
        "id": "sRDgKaIc9R2F",
        "outputId": "615ff28f-5bb0-4c60-f19d-a76bc99d52f0"
      },
      "source": [
        "X_test_1d_np = np.array(X_test_1d)\n",
        "X_test_1d_np.shape"
      ],
      "execution_count": null,
      "outputs": [
        {
          "output_type": "execute_result",
          "data": {
            "text/plain": [
              "(567, 11)"
            ]
          },
          "metadata": {
            "tags": []
          },
          "execution_count": 96
        }
      ]
    },
    {
      "cell_type": "code",
      "metadata": {
        "id": "XJ6LMF9sDpbB"
      },
      "source": [
        "y_train"
      ],
      "execution_count": null,
      "outputs": []
    },
    {
      "cell_type": "code",
      "metadata": {
        "colab": {
          "base_uri": "https://localhost:8080/"
        },
        "id": "zex9E6rO9GIA",
        "outputId": "2387a5cd-1ce4-40de-82c3-f5435813665d"
      },
      "source": [
        "#svm4 = linear_model.SGDClassifier(loss='hinge', penalty='elasticnet')\n",
        "#svm4.fit(X_train_1d_np, y_train)\n",
        "from sklearn import svm\n",
        "from sklearn.linear_model import SGDClassifier\n",
        "\n",
        "#svm4 = SGDClassifier(loss=\"hinge\", n_iter_no_change=10000).fit(X_train_1d_np, np.array(y_train))\n",
        "svm4 = svm.SVC(kernel='linear')\n",
        "svm4.fit(X_train_1d_np, np.array(y_train))"
      ],
      "execution_count": null,
      "outputs": [
        {
          "output_type": "execute_result",
          "data": {
            "text/plain": [
              "SVC(C=1.0, break_ties=False, cache_size=200, class_weight=None, coef0=0.0,\n",
              "    decision_function_shape='ovr', degree=3, gamma='scale', kernel='linear',\n",
              "    max_iter=-1, probability=False, random_state=None, shrinking=True,\n",
              "    tol=0.001, verbose=False)"
            ]
          },
          "metadata": {
            "tags": []
          },
          "execution_count": 120
        }
      ]
    },
    {
      "cell_type": "code",
      "metadata": {
        "colab": {
          "base_uri": "https://localhost:8080/"
        },
        "id": "K1m947u39Aar",
        "outputId": "16884b6b-6a56-4e44-b114-31334c7ab218"
      },
      "source": [
        "\n",
        "import sklearn.metrics\n",
        "\n",
        "\n",
        "test_set_preds = svm4.predict(X_test_1d_np)\n",
        "\n",
        "accuracy_1a = svm4.score(X_test_1d_np, y_test)\n",
        "precision_1a = sklearn.metrics.precision_score(y_test, test_set_preds)\n",
        "recall_1a = sklearn.metrics.recall_score(y_test, test_set_preds)\n",
        "f1_1a = sklearn.metrics.f1_score(y_test, test_set_preds)\n",
        "auc_1a= sklearn.metrics.roc_auc_score(y_test, test_set_preds)\n",
        "\n",
        "tn, fp, fn, tp = sklearn.metrics.confusion_matrix(y_test, test_set_preds).ravel()\n",
        "specificity_1a = tn / (tn+fp)\n",
        "\n",
        "print(\"Answers for 1d: \")\n",
        "print(\"accuracy: \" + str(accuracy_1a))\n",
        "print(\"precision: \" +str(precision_1a))\n",
        "print(\"recall: \" + str(recall_1a))\n",
        "print(\"f1: \" + str(f1_1a))\n",
        "print(\"auc: \" + str(auc_1a))\n",
        "print(tn)\n",
        "print(fp)\n",
        "print(tp)\n",
        "print(fn)"
      ],
      "execution_count": null,
      "outputs": [
        {
          "output_type": "stream",
          "text": [
            "Answers for 1d: \n",
            "accuracy: 0.7372134038800705\n",
            "precision: 0.0\n",
            "recall: 0.0\n",
            "f1: 0.0\n",
            "auc: 0.5\n",
            "418\n",
            "0\n",
            "0\n",
            "149\n"
          ],
          "name": "stdout"
        },
        {
          "output_type": "stream",
          "text": [
            "/usr/local/lib/python3.7/dist-packages/sklearn/metrics/_classification.py:1272: UndefinedMetricWarning: Precision is ill-defined and being set to 0.0 due to no predicted samples. Use `zero_division` parameter to control this behavior.\n",
            "  _warn_prf(average, modifier, msg_start, len(result))\n"
          ],
          "name": "stderr"
        }
      ]
    },
    {
      "cell_type": "code",
      "metadata": {
        "colab": {
          "base_uri": "https://localhost:8080/"
        },
        "id": "Bgl2MhRO9m-z",
        "outputId": "dcc5a3a6-4548-49d3-f5b1-4d869b30beba"
      },
      "source": [
        "test_set_preds"
      ],
      "execution_count": null,
      "outputs": [
        {
          "output_type": "execute_result",
          "data": {
            "text/plain": [
              "array([0, 0, 0, 0, 0, 0, 0, 0, 0, 0, 0, 0, 0, 0, 0, 0, 0, 0, 0, 0, 0, 0,\n",
              "       0, 0, 0, 0, 0, 0, 0, 0, 0, 0, 0, 0, 0, 0, 0, 0, 0, 0, 0, 0, 0, 0,\n",
              "       0, 0, 0, 0, 0, 0, 0, 0, 0, 0, 0, 0, 0, 0, 0, 0, 0, 0, 0, 0, 0, 0,\n",
              "       0, 0, 0, 0, 0, 0, 0, 0, 0, 0, 0, 0, 0, 0, 0, 0, 0, 0, 0, 0, 0, 0,\n",
              "       0, 0, 0, 0, 0, 0, 0, 0, 0, 0, 0, 0, 0, 0, 0, 0, 0, 0, 0, 0, 0, 0,\n",
              "       0, 0, 0, 0, 0, 0, 0, 0, 0, 0, 0, 0, 0, 0, 0, 0, 0, 0, 0, 0, 0, 0,\n",
              "       0, 0, 0, 0, 0, 0, 0, 0, 0, 0, 0, 0, 0, 0, 0, 0, 0, 0, 0, 0, 0, 0,\n",
              "       0, 0, 0, 0, 0, 0, 0, 0, 0, 0, 0, 0, 0, 0, 0, 0, 0, 0, 0, 0, 0, 0,\n",
              "       0, 0, 0, 0, 0, 0, 0, 0, 0, 0, 0, 0, 0, 0, 0, 0, 0, 0, 0, 0, 0, 0,\n",
              "       0, 0, 0, 0, 0, 0, 0, 0, 0, 0, 0, 0, 0, 0, 0, 0, 0, 0, 0, 0, 0, 0,\n",
              "       0, 0, 0, 0, 0, 0, 0, 0, 0, 0, 0, 0, 0, 0, 0, 0, 0, 0, 0, 0, 0, 0,\n",
              "       0, 0, 0, 0, 0, 0, 0, 0, 0, 0, 0, 0, 0, 0, 0, 0, 0, 0, 0, 0, 0, 0,\n",
              "       0, 0, 0, 0, 0, 0, 0, 0, 0, 0, 0, 0, 0, 0, 0, 0, 0, 0, 0, 0, 0, 0,\n",
              "       0, 0, 0, 0, 0, 0, 0, 0, 0, 0, 0, 0, 0, 0, 0, 0, 0, 0, 0, 0, 0, 0,\n",
              "       0, 0, 0, 0, 0, 0, 0, 0, 0, 0, 0, 0, 0, 0, 0, 0, 0, 0, 0, 0, 0, 0,\n",
              "       0, 0, 0, 0, 0, 0, 0, 0, 0, 0, 0, 0, 0, 0, 0, 0, 0, 0, 0, 0, 0, 0,\n",
              "       0, 0, 0, 0, 0, 0, 0, 0, 0, 0, 0, 0, 0, 0, 0, 0, 0, 0, 0, 0, 0, 0,\n",
              "       0, 0, 0, 0, 0, 0, 0, 0, 0, 0, 0, 0, 0, 0, 0, 0, 0, 0, 0, 0, 0, 0,\n",
              "       0, 0, 0, 0, 0, 0, 0, 0, 0, 0, 0, 0, 0, 0, 0, 0, 0, 0, 0, 0, 0, 0,\n",
              "       0, 0, 0, 0, 0, 0, 0, 0, 0, 0, 0, 0, 0, 0, 0, 0, 0, 0, 0, 0, 0, 0,\n",
              "       0, 0, 0, 0, 0, 0, 0, 0, 0, 0, 0, 0, 0, 0, 0, 0, 0, 0, 0, 0, 0, 0,\n",
              "       0, 0, 0, 0, 0, 0, 0, 0, 0, 0, 0, 0, 0, 0, 0, 0, 0, 0, 0, 0, 0, 0,\n",
              "       0, 0, 0, 0, 0, 0, 0, 0, 0, 0, 0, 0, 0, 0, 0, 0, 0, 0, 0, 0, 0, 0,\n",
              "       0, 0, 0, 0, 0, 0, 0, 0, 0, 0, 0, 0, 0, 0, 0, 0, 0, 0, 0, 0, 0, 0,\n",
              "       0, 0, 0, 0, 0, 0, 0, 0, 0, 0, 0, 0, 0, 0, 0, 0, 0, 0, 0, 0, 0, 0,\n",
              "       0, 0, 0, 0, 0, 0, 0, 0, 0, 0, 0, 0, 0, 0, 0, 0, 0])"
            ]
          },
          "metadata": {
            "tags": []
          },
          "execution_count": 114
        }
      ]
    },
    {
      "cell_type": "code",
      "metadata": {
        "colab": {
          "base_uri": "https://localhost:8080/"
        },
        "id": "KDfTtSELEIBi",
        "outputId": "1984c9a9-37c3-43c1-dbe8-110381d44efc"
      },
      "source": [
        "print(specificity_1a)"
      ],
      "execution_count": null,
      "outputs": [
        {
          "output_type": "stream",
          "text": [
            "1.0\n"
          ],
          "name": "stdout"
        }
      ]
    },
    {
      "cell_type": "code",
      "metadata": {
        "id": "0v7L38vKP4ev"
      },
      "source": [
        ""
      ],
      "execution_count": null,
      "outputs": []
    }
  ]
}